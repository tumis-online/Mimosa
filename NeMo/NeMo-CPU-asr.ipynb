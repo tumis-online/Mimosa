{
 "cells": [
  {
   "cell_type": "markdown",
   "id": "f785f1f9-0d68-4de8-ac13-b5caf11920b6",
   "metadata": {},
   "source": [
    "Start and activate virtualenv"
   ]
  },
  {
   "cell_type": "code",
   "execution_count": null,
   "id": "f9682170-a938-4986-b3a6-b2bd9d62ee1a",
   "metadata": {},
   "outputs": [],
   "source": [
    "conda create -n cputest python=3.8\n",
    "conda activate cputest\n",
    "pip install nemo_toolkit['all']==1.6.2"
   ]
  },
  {
   "cell_type": "markdown",
   "id": "3bc1a48a-9bb0-4b0a-b470-5c55514c8c70",
   "metadata": {},
   "source": [
    "Get a sample audio file. You can use your own, just make sure it is Mono and sampled at 16Khz."
   ]
  },
  {
   "cell_type": "markdown",
   "id": "d8aebdf4-a3d6-4e94-a238-c71ef36cf71f",
   "metadata": {},
   "source": [
    "English audio file"
   ]
  },
  {
   "cell_type": "code",
   "execution_count": null,
   "id": "419de32c-598c-485f-886e-5eec798397fa",
   "metadata": {},
   "outputs": [],
   "source": [
    "!wget https://dldata-public.s3.us-east-2.amazonaws.com/2086-149220-0033.wav"
   ]
  },
  {
   "cell_type": "markdown",
   "id": "cf5cb9cc-e1ba-4fc6-9de7-e4d82da0bf68",
   "metadata": {},
   "source": [
    "German audio file (provided by Thorsten Voice, CC0-1.0 license)"
   ]
  },
  {
   "cell_type": "code",
   "execution_count": null,
   "id": "f1cc95f7-a788-49ad-b290-a6ca5e0ca4a6",
   "metadata": {},
   "outputs": [],
   "source": [
    "!wget https://github.com/thorstenMueller/Thorsten-Voice/blob/master/samples/thorsten-21.06-emotional/neutral.wav"
   ]
  },
  {
   "cell_type": "markdown",
   "id": "eb14d700-0075-46cf-b0d9-4aa5a83be9b3",
   "metadata": {},
   "source": [
    "Pretrained MLS language models\n",
    "https://github.com/flashlight/wav2letter/tree/main/recipes/mls"
   ]
  },
  {
   "cell_type": "code",
   "execution_count": null,
   "id": "17f5bb27-0c80-4559-9f83-1936cf4fec8c",
   "metadata": {},
   "outputs": [],
   "source": [
    "Alternatively use english model: 'stt_en_conformer_ctc_large'"
   ]
  },
  {
   "cell_type": "code",
   "execution_count": null,
   "id": "4fee8f4f-615f-4df6-bb24-08861c570544",
   "metadata": {},
   "outputs": [],
   "source": [
    "import nemo.collections.asr as nemo_asr\n",
    "# This will initiate pre-trained model download from NGC\n",
    "asr_model = nemo_asr.models.EncDecCTCModelBPE.from_pretrained(\"stt_de_citrinet_1024\")\n",
    "transcriptions = asr_model.transcribe(['samples_thorsten-21.06-emotional_neutral.wav'])\n",
    "print(transcriptions)"
   ]
  },
  {
   "cell_type": "markdown",
   "id": "3b8309d6-4048-4c6c-b2b1-ae3a29325cb8",
   "metadata": {},
   "source": [
    "\"well i don't wish to see it any more observed phoebe turning away her eyes it is certainly very like the old portrait\""
   ]
  },
  {
   "cell_type": "markdown",
   "id": "95c15df7-4fca-4dd0-a010-198125c855b7",
   "metadata": {},
   "source": [
    "'mißt wieder nichts geschafft' alternatively, given pretrained english model: 'mist ider nichtk schaft'"
   ]
  },
  {
   "cell_type": "markdown",
   "id": "900df6e9-4664-4a58-b64e-9bad7e560a74",
   "metadata": {},
   "source": [
    "German language model trained on >2.300h of german speech (1524 hours Multilingual LibriSpeech (MLS), 567 hours Mozilla Common Voice 7.0, 214 hours VoxPopuli)\n",
    "https://catalog.ngc.nvidia.com/orgs/nvidia/teams/nemo/models/stt_de_citrinet_1024\n",
    "\n",
    "list all available models: \n",
    "- nemo_asr.models.EncDecCTCModelBPE.list_available_models()\n",
    "- nemo_nlp.models.PunctuationCapitalizationModel.list_available_models()"
   ]
  },
  {
   "cell_type": "code",
   "execution_count": null,
   "id": "5ad85ea3-716f-4e29-b799-fcc1cb894a3b",
   "metadata": {},
   "outputs": [],
   "source": [
    "Punctuation alternative: "
   ]
  },
  {
   "cell_type": "code",
   "execution_count": null,
   "id": "73a864a9-101b-44ec-bbf0-538ae9490293",
   "metadata": {},
   "outputs": [],
   "source": [
    "# Now, lets add punctuation\n",
    "import nemo.collections.nlp as nemo_nlp \n",
    "# this will also trigger model download\n",
    "punctuation = nemo_nlp.models.PunctuationCapitalizationModel.from_pretrained(model_name='punctuation_en_distilbert')\n",
    "res = punctuation.add_punctuation_capitalization(queries=transcriptions)\n",
    "print(res)"
   ]
  },
  {
   "cell_type": "markdown",
   "id": "4834edae-1daf-46c3-86e3-ceb0cac2c080",
   "metadata": {},
   "source": [
    "\"Well, I don't wish to see it any more, observed Phoebe, turning away her eyes. It is certainly very like the old portrait.\""
   ]
  },
  {
   "cell_type": "markdown",
   "id": "807ddedc-6108-4364-b3d5-72fe5d2cc315",
   "metadata": {},
   "source": [
    "'Mißt wieder nichts geschafft.'"
   ]
  }
 ],
 "metadata": {
  "kernelspec": {
   "display_name": "Python 3 (ipykernel)",
   "language": "python",
   "name": "python3"
  },
  "language_info": {
   "codemirror_mode": {
    "name": "ipython",
    "version": 3
   },
   "file_extension": ".py",
   "mimetype": "text/x-python",
   "name": "python",
   "nbconvert_exporter": "python",
   "pygments_lexer": "ipython3",
   "version": "3.9.12"
  }
 },
 "nbformat": 4,
 "nbformat_minor": 5
}
