{
 "cells": [
  {
   "cell_type": "markdown",
   "id": "f5adc294",
   "metadata": {},
   "source": [
    "# Modifying FastPitch to Train on a Non-English (German) Dataset\n",
    "\n",
    "This notebook is designed to provide a guide on how to train FastPitch on a German dataset from scratch as part of the TTS pipeline. It contains the following sections:\n",
    "  1. **Introduction**: FastPitch and HiFi-GAN in NeMo\n",
    "  2. **Dataset Preparation**: How to prepare German dataset for FastPitch\n",
    "  3. **Training**: Example of FastPitch training and evaluation\n",
    "  4. **Finetuning HiFi-GAN**: Improving speech quality by Finetuning HiFi-GAN on synthesized mel-spectrograms from FastPitch"
   ]
  },
  {
   "cell_type": "markdown",
   "id": "fc18f4fb",
   "metadata": {},
   "source": [
    "#### License\n",
    "\n",
    "> Copyright 2022 NVIDIA. All Rights Reserved.\n",
    "> \n",
    "> Licensed under the Apache License, Version 2.0 (the \"License\");\n",
    "> you may not use this file except in compliance with the License.\n",
    "> You may obtain a copy of the License at\n",
    "> \n",
    ">     http://www.apache.org/licenses/LICENSE-2.0\n",
    "> \n",
    "> Unless required by applicable law or agreed to in writing, software\n",
    "> distributed under the License is distributed on an \"AS IS\" BASIS,\n",
    "> WITHOUT WARRANTIES OR CONDITIONS OF ANY KIND, either express or implied.\n",
    "> See the License for the specific language governing permissions and\n",
    "> limitations under the License."
   ]
  },
  {
   "cell_type": "code",
   "execution_count": 1,
   "id": "e27a7dc1",
   "metadata": {},
   "outputs": [
    {
     "name": "stdout",
     "output_type": "stream",
     "text": [
      "E: Sperrdatei /var/lib/dpkg/lock-frontend konnte nicht geöffnet werden. - open (13: Keine Berechtigung)\n",
      "E: Erlangen der Sperre für die Dpkg-Oberfläche (/var/lib/dpkg/lock-frontend) nicht möglich; sind Sie root?\n",
      "Defaulting to user installation because normal site-packages is not writeable\n",
      "Requirement already satisfied: wget in /home/tim/.local/lib/python3.8/site-packages (3.2)\n",
      "Requirement already satisfied: unidecode in /home/tim/.local/lib/python3.8/site-packages (1.3.4)\n",
      "Requirement already satisfied: pynini==2.1.4 in /home/tim/.local/lib/python3.8/site-packages (2.1.4)\n",
      "Requirement already satisfied: scipy==1.7.3 in /home/tim/.local/lib/python3.8/site-packages (1.7.3)\n",
      "Requirement already satisfied: Cython>=0.29 in /home/tim/.local/lib/python3.8/site-packages (from pynini==2.1.4) (0.29.30)\n",
      "Requirement already satisfied: numpy<1.23.0,>=1.16.5 in /home/tim/.local/lib/python3.8/site-packages (from scipy==1.7.3) (1.22.4)\n",
      "Defaulting to user installation because normal site-packages is not writeable\n",
      "Collecting nemo_toolkit[all]\n",
      "  Cloning https://github.com/NVIDIA/NeMo.git (to revision tts_germanfastpitch) to /tmp/pip-install-1x1g3nfx/nemo-toolkit_9138ae835d0f411db2b373217c329808\n",
      "  Running command git clone --filter=blob:none --quiet https://github.com/NVIDIA/NeMo.git /tmp/pip-install-1x1g3nfx/nemo-toolkit_9138ae835d0f411db2b373217c329808\n",
      "  Running command git checkout -b tts_germanfastpitch --track origin/tts_germanfastpitch\n",
      "  Zu neuem Branch 'tts_germanfastpitch' gewechselt\n",
      "  Branch 'tts_germanfastpitch' folgt nun Remote-Branch 'tts_germanfastpitch' von 'origin'.\n",
      "  Resolved https://github.com/NVIDIA/NeMo.git to commit 0c41632be0ece322457fbbfe0f3bff6c331548e1\n",
      "  Preparing metadata (setup.py) ... \u001b[?25ldone\n",
      "\u001b[?25hRequirement already satisfied: setuptools==59.5.0 in /home/tim/.local/lib/python3.8/site-packages (from nemo_toolkit[all]) (59.5.0)\n",
      "Requirement already satisfied: numpy>=1.21 in /home/tim/.local/lib/python3.8/site-packages (from nemo_toolkit[all]) (1.22.4)\n",
      "Requirement already satisfied: onnx>=1.7.0 in /home/tim/.local/lib/python3.8/site-packages (from nemo_toolkit[all]) (1.11.0)\n",
      "Requirement already satisfied: python-dateutil in /usr/lib/python3/dist-packages (from nemo_toolkit[all]) (2.7.3)\n",
      "Requirement already satisfied: torch in /home/tim/.local/lib/python3.8/site-packages (from nemo_toolkit[all]) (1.11.0)\n",
      "Requirement already satisfied: wrapt in /home/tim/.local/lib/python3.8/site-packages (from nemo_toolkit[all]) (1.13.3)\n",
      "Requirement already satisfied: ruamel.yaml in /home/tim/.local/lib/python3.8/site-packages (from nemo_toolkit[all]) (0.17.21)\n",
      "Requirement already satisfied: scikit-learn in /usr/local/lib/python3.8/dist-packages (from nemo_toolkit[all]) (1.0)\n",
      "Requirement already satisfied: tqdm>=4.41.0 in /usr/local/lib/python3.8/dist-packages (from nemo_toolkit[all]) (4.62.3)\n",
      "Requirement already satisfied: numba in /home/tim/.local/lib/python3.8/site-packages (from nemo_toolkit[all]) (0.55.2)\n",
      "Requirement already satisfied: wget in /home/tim/.local/lib/python3.8/site-packages (from nemo_toolkit[all]) (3.2)\n",
      "Requirement already satisfied: frozendict in /home/tim/.local/lib/python3.8/site-packages (from nemo_toolkit[all]) (2.3.2)\n",
      "Requirement already satisfied: unidecode in /home/tim/.local/lib/python3.8/site-packages (from nemo_toolkit[all]) (1.3.4)\n",
      "Requirement already satisfied: huggingface_hub in /home/tim/.local/lib/python3.8/site-packages (from nemo_toolkit[all]) (0.7.0)\n",
      "Requirement already satisfied: black==19.10b0 in /home/tim/.local/lib/python3.8/site-packages (from nemo_toolkit[all]) (19.10b0)\n",
      "Requirement already satisfied: isort[requirements]<5 in /home/tim/.local/lib/python3.8/site-packages (from nemo_toolkit[all]) (4.3.21)\n",
      "Requirement already satisfied: parameterized in /home/tim/.local/lib/python3.8/site-packages (from nemo_toolkit[all]) (0.8.1)\n",
      "Requirement already satisfied: pytest in /home/tim/.local/lib/python3.8/site-packages (from nemo_toolkit[all]) (7.1.2)\n",
      "Requirement already satisfied: pytest-runner in /home/tim/.local/lib/python3.8/site-packages (from nemo_toolkit[all]) (6.0.0)\n",
      "Requirement already satisfied: sphinx in /home/tim/.local/lib/python3.8/site-packages (from nemo_toolkit[all]) (5.0.1)\n",
      "Requirement already satisfied: sphinxcontrib-bibtex in /home/tim/.local/lib/python3.8/site-packages (from nemo_toolkit[all]) (2.4.2)\n",
      "Requirement already satisfied: wandb in /home/tim/.local/lib/python3.8/site-packages (from nemo_toolkit[all]) (0.12.18)\n",
      "Requirement already satisfied: inflect in /home/tim/.local/lib/python3.8/site-packages (from nemo_toolkit[all]) (5.6.0)\n",
      "Requirement already satisfied: regex in /home/tim/.local/lib/python3.8/site-packages (from nemo_toolkit[all]) (2022.6.2)\n",
      "Requirement already satisfied: pynini==2.1.4 in /home/tim/.local/lib/python3.8/site-packages (from nemo_toolkit[all]) (2.1.4)\n",
      "Requirement already satisfied: pytorch-lightning>=1.6.1 in /home/tim/.local/lib/python3.8/site-packages (from nemo_toolkit[all]) (1.6.4)\n",
      "Requirement already satisfied: torchmetrics>=0.4.1rc0 in /home/tim/.local/lib/python3.8/site-packages (from nemo_toolkit[all]) (0.9.1)\n",
      "Requirement already satisfied: transformers>=4.0.1 in /home/tim/.local/lib/python3.8/site-packages (from nemo_toolkit[all]) (4.19.4)\n",
      "Requirement already satisfied: webdataset<=0.1.62,>=0.1.48 in /home/tim/.local/lib/python3.8/site-packages (from nemo_toolkit[all]) (0.1.62)\n",
      "Requirement already satisfied: omegaconf<2.2,>=2.1.2 in /home/tim/.local/lib/python3.8/site-packages (from nemo_toolkit[all]) (2.1.2)\n",
      "Requirement already satisfied: hydra-core<1.2,>=1.1.0 in /home/tim/.local/lib/python3.8/site-packages (from nemo_toolkit[all]) (1.1.2)\n",
      "Requirement already satisfied: pyyaml<6 in /home/tim/.local/lib/python3.8/site-packages (from nemo_toolkit[all]) (5.4.1)\n",
      "Requirement already satisfied: sentencepiece<1.0.0 in /home/tim/.local/lib/python3.8/site-packages (from nemo_toolkit[all]) (0.1.96)\n",
      "Requirement already satisfied: youtokentome>=1.0.5 in /home/tim/.local/lib/python3.8/site-packages (from nemo_toolkit[all]) (1.0.6)\n",
      "Requirement already satisfied: pandas in /home/tim/.local/lib/python3.8/site-packages (from nemo_toolkit[all]) (1.3.0)\n",
      "Requirement already satisfied: braceexpand in /home/tim/.local/lib/python3.8/site-packages (from nemo_toolkit[all]) (0.1.7)\n",
      "Requirement already satisfied: editdistance in /home/tim/.local/lib/python3.8/site-packages (from nemo_toolkit[all]) (0.6.0)\n",
      "Requirement already satisfied: librosa in /home/tim/.local/lib/python3.8/site-packages (from nemo_toolkit[all]) (0.9.1)\n",
      "Requirement already satisfied: marshmallow in /home/tim/.local/lib/python3.8/site-packages (from nemo_toolkit[all]) (3.16.0)\n",
      "Requirement already satisfied: packaging in /home/tim/.local/lib/python3.8/site-packages (from nemo_toolkit[all]) (21.0)\n",
      "Requirement already satisfied: soundfile in /home/tim/.local/lib/python3.8/site-packages (from nemo_toolkit[all]) (0.10.3.post1)\n",
      "Requirement already satisfied: sox in /home/tim/.local/lib/python3.8/site-packages (from nemo_toolkit[all]) (1.4.1)\n",
      "Requirement already satisfied: kaldi-python-io in /home/tim/.local/lib/python3.8/site-packages (from nemo_toolkit[all]) (1.2.2)\n",
      "Requirement already satisfied: kaldiio in /home/tim/.local/lib/python3.8/site-packages (from nemo_toolkit[all]) (2.17.2)\n",
      "Requirement already satisfied: scipy>=0.14 in /home/tim/.local/lib/python3.8/site-packages (from nemo_toolkit[all]) (1.7.3)\n",
      "Requirement already satisfied: g2p_en in /home/tim/.local/lib/python3.8/site-packages (from nemo_toolkit[all]) (2.1.0)\n",
      "Requirement already satisfied: pydub in /home/tim/.local/lib/python3.8/site-packages (from nemo_toolkit[all]) (0.25.1)\n",
      "Requirement already satisfied: pyannote.core in /home/tim/.local/lib/python3.8/site-packages (from nemo_toolkit[all]) (4.4)\n",
      "Requirement already satisfied: pyannote.metrics in /home/tim/.local/lib/python3.8/site-packages (from nemo_toolkit[all]) (3.2)\n",
      "Requirement already satisfied: ipywidgets in /home/tim/.local/lib/python3.8/site-packages (from nemo_toolkit[all]) (7.6.3)\n",
      "Requirement already satisfied: matplotlib in /home/tim/.local/lib/python3.8/site-packages (from nemo_toolkit[all]) (3.4.2)\n",
      "Requirement already satisfied: pillow in /usr/lib/python3/dist-packages (from nemo_toolkit[all]) (7.0.0)\n",
      "Requirement already satisfied: torchvision in /home/tim/.local/lib/python3.8/site-packages (from nemo_toolkit[all]) (0.12.0)\n",
      "Requirement already satisfied: boto3 in /home/tim/.local/lib/python3.8/site-packages (from nemo_toolkit[all]) (1.24.7)\n",
      "Requirement already satisfied: h5py in /home/tim/.local/lib/python3.8/site-packages (from nemo_toolkit[all]) (3.7.0)\n",
      "Requirement already satisfied: rapidfuzz in /home/tim/.local/lib/python3.8/site-packages (from nemo_toolkit[all]) (2.0.11)\n",
      "Requirement already satisfied: gdown in /home/tim/.local/lib/python3.8/site-packages (from nemo_toolkit[all]) (4.4.0)\n",
      "Requirement already satisfied: sacrebleu[ja] in /home/tim/.local/lib/python3.8/site-packages (from nemo_toolkit[all]) (2.1.0)\n",
      "Requirement already satisfied: sacremoses>=0.0.43 in /home/tim/.local/lib/python3.8/site-packages (from nemo_toolkit[all]) (0.0.53)\n",
      "Requirement already satisfied: nltk>=3.6.5 in /home/tim/.local/lib/python3.8/site-packages (from nemo_toolkit[all]) (3.7)\n",
      "Requirement already satisfied: fasttext in /home/tim/.local/lib/python3.8/site-packages (from nemo_toolkit[all]) (0.9.2)\n",
      "Requirement already satisfied: opencc in /home/tim/.local/lib/python3.8/site-packages (from nemo_toolkit[all]) (1.1.4)\n",
      "Requirement already satisfied: pangu in /home/tim/.local/lib/python3.8/site-packages (from nemo_toolkit[all]) (4.0.6.1)\n",
      "Requirement already satisfied: jieba in /home/tim/.local/lib/python3.8/site-packages (from nemo_toolkit[all]) (0.42.1)\n",
      "Requirement already satisfied: ftfy in /home/tim/.local/lib/python3.8/site-packages (from nemo_toolkit[all]) (6.1.1)\n",
      "Requirement already satisfied: flask_restful in /home/tim/.local/lib/python3.8/site-packages (from nemo_toolkit[all]) (0.3.9)\n",
      "Requirement already satisfied: einops in /home/tim/.local/lib/python3.8/site-packages (from nemo_toolkit[all]) (0.4.1)\n",
      "Requirement already satisfied: ijson in /home/tim/.local/lib/python3.8/site-packages (from nemo_toolkit[all]) (3.1.4)\n",
      "Requirement already satisfied: faiss-cpu in /home/tim/.local/lib/python3.8/site-packages (from nemo_toolkit[all]) (1.7.2)\n",
      "Requirement already satisfied: sentence_transformers in /home/tim/.local/lib/python3.8/site-packages (from nemo_toolkit[all]) (2.2.0)\n",
      "Requirement already satisfied: pypinyin in /home/tim/.local/lib/python3.8/site-packages (from nemo_toolkit[all]) (0.46.0)\n",
      "Requirement already satisfied: attrdict in /home/tim/.local/lib/python3.8/site-packages (from nemo_toolkit[all]) (2.0.1)\n",
      "Requirement already satisfied: pystoi in /home/tim/.local/lib/python3.8/site-packages (from nemo_toolkit[all]) (0.3.3)\n",
      "Requirement already satisfied: pesq in /home/tim/.local/lib/python3.8/site-packages (from nemo_toolkit[all]) (0.0.4)\n",
      "Requirement already satisfied: toml>=0.9.4 in /home/tim/.local/lib/python3.8/site-packages (from black==19.10b0->nemo_toolkit[all]) (0.10.2)\n",
      "Requirement already satisfied: click>=6.5 in /usr/local/lib/python3.8/dist-packages (from black==19.10b0->nemo_toolkit[all]) (7.1.2)\n",
      "Requirement already satisfied: typed-ast>=1.4.0 in /home/tim/.local/lib/python3.8/site-packages (from black==19.10b0->nemo_toolkit[all]) (1.5.4)\n",
      "Requirement already satisfied: pathspec<1,>=0.6 in /home/tim/.local/lib/python3.8/site-packages (from black==19.10b0->nemo_toolkit[all]) (0.9.0)\n",
      "Requirement already satisfied: attrs>=18.1.0 in /home/tim/.local/lib/python3.8/site-packages (from black==19.10b0->nemo_toolkit[all]) (21.2.0)\n",
      "Requirement already satisfied: appdirs in /usr/lib/python3/dist-packages (from black==19.10b0->nemo_toolkit[all]) (1.4.3)\n",
      "Requirement already satisfied: Cython>=0.29 in /home/tim/.local/lib/python3.8/site-packages (from pynini==2.1.4->nemo_toolkit[all]) (0.29.30)\n",
      "Requirement already satisfied: importlib-resources<5.3 in /home/tim/.local/lib/python3.8/site-packages (from hydra-core<1.2,>=1.1.0->nemo_toolkit[all]) (5.2.3)\n",
      "Requirement already satisfied: antlr4-python3-runtime==4.8 in /home/tim/.local/lib/python3.8/site-packages (from hydra-core<1.2,>=1.1.0->nemo_toolkit[all]) (4.8)\n",
      "Requirement already satisfied: pip-api in /home/tim/.local/lib/python3.8/site-packages (from isort[requirements]<5->nemo_toolkit[all]) (0.0.29)\n",
      "Requirement already satisfied: pipreqs in /home/tim/.local/lib/python3.8/site-packages (from isort[requirements]<5->nemo_toolkit[all]) (0.4.11)\n",
      "Requirement already satisfied: pyparsing>=2.2.1 in /home/tim/.local/lib/python3.8/site-packages (from matplotlib->nemo_toolkit[all]) (2.4.7)\n",
      "Requirement already satisfied: kiwisolver>=1.0.1 in /home/tim/.local/lib/python3.8/site-packages (from matplotlib->nemo_toolkit[all]) (1.3.1)\n",
      "Requirement already satisfied: cycler>=0.10 in /home/tim/.local/lib/python3.8/site-packages (from matplotlib->nemo_toolkit[all]) (0.10.0)\n",
      "Requirement already satisfied: joblib in /usr/local/lib/python3.8/dist-packages (from nltk>=3.6.5->nemo_toolkit[all]) (1.0.1)\n",
      "Requirement already satisfied: protobuf>=3.12.2 in /usr/local/lib/python3.8/dist-packages (from onnx>=1.7.0->nemo_toolkit[all]) (3.17.3)\n",
      "Requirement already satisfied: typing-extensions>=3.6.2.1 in /home/tim/.local/lib/python3.8/site-packages (from onnx>=1.7.0->nemo_toolkit[all]) (4.2.0)\n",
      "Requirement already satisfied: tensorboard>=2.2.0 in /home/tim/.local/lib/python3.8/site-packages (from pytorch-lightning>=1.6.1->nemo_toolkit[all]) (2.9.1)\n",
      "Requirement already satisfied: pyDeprecate>=0.3.1 in /home/tim/.local/lib/python3.8/site-packages (from pytorch-lightning>=1.6.1->nemo_toolkit[all]) (0.3.1)\n",
      "Requirement already satisfied: fsspec[http]!=2021.06.0,>=2021.05.0 in /home/tim/.local/lib/python3.8/site-packages (from pytorch-lightning>=1.6.1->nemo_toolkit[all]) (2022.5.0)\n",
      "Requirement already satisfied: six in /usr/lib/python3/dist-packages (from sacremoses>=0.0.43->nemo_toolkit[all]) (1.14.0)\n",
      "Requirement already satisfied: filelock in /usr/lib/python3/dist-packages (from transformers>=4.0.1->nemo_toolkit[all]) (3.0.12)\n",
      "Requirement already satisfied: tokenizers!=0.11.3,<0.13,>=0.11.1 in /home/tim/.local/lib/python3.8/site-packages (from transformers>=4.0.1->nemo_toolkit[all]) (0.12.1)\n",
      "Requirement already satisfied: requests in /home/tim/.local/lib/python3.8/site-packages (from transformers>=4.0.1->nemo_toolkit[all]) (2.26.0)\n",
      "Requirement already satisfied: jmespath<2.0.0,>=0.7.1 in /home/tim/.local/lib/python3.8/site-packages (from boto3->nemo_toolkit[all]) (0.10.0)\n",
      "Requirement already satisfied: s3transfer<0.7.0,>=0.6.0 in /home/tim/.local/lib/python3.8/site-packages (from boto3->nemo_toolkit[all]) (0.6.0)\n",
      "Requirement already satisfied: botocore<1.28.0,>=1.27.7 in /home/tim/.local/lib/python3.8/site-packages (from boto3->nemo_toolkit[all]) (1.27.7)\n",
      "Requirement already satisfied: pybind11>=2.2 in /home/tim/.local/lib/python3.8/site-packages (from fasttext->nemo_toolkit[all]) (2.9.2)\n",
      "Requirement already satisfied: Flask>=0.8 in /usr/local/lib/python3.8/dist-packages (from flask_restful->nemo_toolkit[all]) (1.1.2)\n",
      "Requirement already satisfied: pytz in /usr/lib/python3/dist-packages (from flask_restful->nemo_toolkit[all]) (2019.3)\n",
      "Requirement already satisfied: aniso8601>=0.82 in /home/tim/.local/lib/python3.8/site-packages (from flask_restful->nemo_toolkit[all]) (9.0.1)\n",
      "Requirement already satisfied: wcwidth>=0.2.5 in /home/tim/.local/lib/python3.8/site-packages (from ftfy->nemo_toolkit[all]) (0.2.5)\n",
      "Requirement already satisfied: distance>=0.1.3 in /home/tim/.local/lib/python3.8/site-packages (from g2p_en->nemo_toolkit[all]) (0.1.3)\n",
      "Requirement already satisfied: beautifulsoup4 in /home/tim/.local/lib/python3.8/site-packages (from gdown->nemo_toolkit[all]) (4.11.1)\n",
      "Requirement already satisfied: ipykernel>=4.5.1 in /home/tim/.local/lib/python3.8/site-packages (from ipywidgets->nemo_toolkit[all]) (6.0.1)\n",
      "Requirement already satisfied: widgetsnbextension~=3.5.0 in /home/tim/.local/lib/python3.8/site-packages (from ipywidgets->nemo_toolkit[all]) (3.5.1)\n",
      "Requirement already satisfied: nbformat>=4.2.0 in /home/tim/.local/lib/python3.8/site-packages (from ipywidgets->nemo_toolkit[all]) (5.4.0)\n",
      "Requirement already satisfied: jupyterlab-widgets>=1.0.0 in /home/tim/.local/lib/python3.8/site-packages (from ipywidgets->nemo_toolkit[all]) (1.0.0)\n",
      "Requirement already satisfied: traitlets>=4.3.1 in /home/tim/.local/lib/python3.8/site-packages (from ipywidgets->nemo_toolkit[all]) (5.2.2.post1)\n",
      "Requirement already satisfied: ipython>=4.0.0 in /home/tim/.local/lib/python3.8/site-packages (from ipywidgets->nemo_toolkit[all]) (7.25.0)\n",
      "Requirement already satisfied: audioread>=2.1.5 in /home/tim/.local/lib/python3.8/site-packages (from librosa->nemo_toolkit[all]) (2.1.9)\n",
      "Requirement already satisfied: resampy>=0.2.2 in /home/tim/.local/lib/python3.8/site-packages (from librosa->nemo_toolkit[all]) (0.2.2)\n",
      "Requirement already satisfied: decorator>=4.0.10 in /home/tim/.local/lib/python3.8/site-packages (from librosa->nemo_toolkit[all]) (5.0.9)\n",
      "Requirement already satisfied: pooch>=1.0 in /home/tim/.local/lib/python3.8/site-packages (from librosa->nemo_toolkit[all]) (1.6.0)\n",
      "Requirement already satisfied: llvmlite<0.39,>=0.38.0rc1 in /home/tim/.local/lib/python3.8/site-packages (from numba->nemo_toolkit[all]) (0.38.1)\n",
      "Requirement already satisfied: threadpoolctl>=2.0.0 in /usr/local/lib/python3.8/dist-packages (from scikit-learn->nemo_toolkit[all]) (2.2.0)\n",
      "Requirement already satisfied: cffi>=1.0 in /home/tim/.local/lib/python3.8/site-packages (from soundfile->nemo_toolkit[all]) (1.14.5)\n",
      "Requirement already satisfied: simplejson>=3.8.1 in /usr/lib/python3/dist-packages (from pyannote.core->nemo_toolkit[all]) (3.16.0)\n",
      "Requirement already satisfied: sortedcontainers>=2.0.4 in /home/tim/.local/lib/python3.8/site-packages (from pyannote.core->nemo_toolkit[all]) (2.4.0)\n",
      "Requirement already satisfied: docopt>=0.6.2 in /home/tim/.local/lib/python3.8/site-packages (from pyannote.metrics->nemo_toolkit[all]) (0.6.2)\n",
      "Requirement already satisfied: sympy>=1.1 in /home/tim/.local/lib/python3.8/site-packages (from pyannote.metrics->nemo_toolkit[all]) (1.8)\n",
      "Requirement already satisfied: tabulate>=0.7.7 in /home/tim/.local/lib/python3.8/site-packages (from pyannote.metrics->nemo_toolkit[all]) (0.8.9)\n",
      "Requirement already satisfied: pyannote.database>=4.0.1 in /home/tim/.local/lib/python3.8/site-packages (from pyannote.metrics->nemo_toolkit[all]) (4.1.3)\n",
      "Requirement already satisfied: pluggy<2.0,>=0.12 in /home/tim/.local/lib/python3.8/site-packages (from pytest->nemo_toolkit[all]) (1.0.0)\n",
      "Requirement already satisfied: py>=1.8.2 in /home/tim/.local/lib/python3.8/site-packages (from pytest->nemo_toolkit[all]) (1.11.0)\n",
      "Requirement already satisfied: tomli>=1.0.0 in /home/tim/.local/lib/python3.8/site-packages (from pytest->nemo_toolkit[all]) (2.0.1)\n",
      "Requirement already satisfied: iniconfig in /home/tim/.local/lib/python3.8/site-packages (from pytest->nemo_toolkit[all]) (1.1.1)\n",
      "Requirement already satisfied: jarowinkler<1.1.0,>=1.0.2 in /home/tim/.local/lib/python3.8/site-packages (from rapidfuzz->nemo_toolkit[all]) (1.0.2)\n",
      "Requirement already satisfied: ruamel.yaml.clib>=0.2.6 in /home/tim/.local/lib/python3.8/site-packages (from ruamel.yaml->nemo_toolkit[all]) (0.2.6)\n",
      "Requirement already satisfied: colorama in /usr/lib/python3/dist-packages (from sacrebleu[ja]->nemo_toolkit[all]) (0.4.3)\n",
      "Requirement already satisfied: portalocker in /home/tim/.local/lib/python3.8/site-packages (from sacrebleu[ja]->nemo_toolkit[all]) (2.4.0)\n",
      "Requirement already satisfied: mecab-python3==1.0.5 in /home/tim/.local/lib/python3.8/site-packages (from sacrebleu[ja]->nemo_toolkit[all]) (1.0.5)\n",
      "Requirement already satisfied: ipadic<2.0,>=1.0 in /home/tim/.local/lib/python3.8/site-packages (from sacrebleu[ja]->nemo_toolkit[all]) (1.0.0)\n",
      "Requirement already satisfied: Pygments>=2.0 in /home/tim/.local/lib/python3.8/site-packages (from sphinx->nemo_toolkit[all]) (2.9.0)\n",
      "Requirement already satisfied: sphinxcontrib-jsmath in /home/tim/.local/lib/python3.8/site-packages (from sphinx->nemo_toolkit[all]) (1.0.1)\n",
      "Requirement already satisfied: babel>=1.3 in /home/tim/.local/lib/python3.8/site-packages (from sphinx->nemo_toolkit[all]) (2.10.1)\n",
      "Requirement already satisfied: sphinxcontrib-serializinghtml>=1.1.5 in /home/tim/.local/lib/python3.8/site-packages (from sphinx->nemo_toolkit[all]) (1.1.5)\n",
      "Requirement already satisfied: snowballstemmer>=1.1 in /home/tim/.local/lib/python3.8/site-packages (from sphinx->nemo_toolkit[all]) (2.2.0)\n",
      "Requirement already satisfied: alabaster<0.8,>=0.7 in /home/tim/.local/lib/python3.8/site-packages (from sphinx->nemo_toolkit[all]) (0.7.12)\n",
      "Requirement already satisfied: docutils<0.19,>=0.14 in /home/tim/.local/lib/python3.8/site-packages (from sphinx->nemo_toolkit[all]) (0.18.1)\n",
      "Requirement already satisfied: sphinxcontrib-htmlhelp>=2.0.0 in /home/tim/.local/lib/python3.8/site-packages (from sphinx->nemo_toolkit[all]) (2.0.0)\n",
      "Requirement already satisfied: imagesize in /home/tim/.local/lib/python3.8/site-packages (from sphinx->nemo_toolkit[all]) (1.3.0)\n",
      "Requirement already satisfied: sphinxcontrib-qthelp in /home/tim/.local/lib/python3.8/site-packages (from sphinx->nemo_toolkit[all]) (1.0.3)\n",
      "Requirement already satisfied: Jinja2>=2.3 in /home/tim/.local/lib/python3.8/site-packages (from sphinx->nemo_toolkit[all]) (3.1.2)\n",
      "Requirement already satisfied: sphinxcontrib-devhelp in /home/tim/.local/lib/python3.8/site-packages (from sphinx->nemo_toolkit[all]) (1.0.2)\n",
      "Requirement already satisfied: sphinxcontrib-applehelp in /home/tim/.local/lib/python3.8/site-packages (from sphinx->nemo_toolkit[all]) (1.0.2)\n",
      "Requirement already satisfied: importlib-metadata>=4.4 in /home/tim/.local/lib/python3.8/site-packages (from sphinx->nemo_toolkit[all]) (4.11.4)\n",
      "Requirement already satisfied: pybtex>=0.24 in /home/tim/.local/lib/python3.8/site-packages (from sphinxcontrib-bibtex->nemo_toolkit[all]) (0.24.0)\n",
      "Requirement already satisfied: pybtex-docutils>=1.0.0 in /home/tim/.local/lib/python3.8/site-packages (from sphinxcontrib-bibtex->nemo_toolkit[all]) (1.0.2)\n",
      "Requirement already satisfied: sentry-sdk>=1.0.0 in /home/tim/.local/lib/python3.8/site-packages (from wandb->nemo_toolkit[all]) (1.5.12)\n",
      "Requirement already satisfied: psutil>=5.0.0 in /home/tim/.local/lib/python3.8/site-packages (from wandb->nemo_toolkit[all]) (5.9.1)\n",
      "Requirement already satisfied: setproctitle in /home/tim/.local/lib/python3.8/site-packages (from wandb->nemo_toolkit[all]) (1.2.3)\n",
      "Requirement already satisfied: shortuuid>=0.5.0 in /home/tim/.local/lib/python3.8/site-packages (from wandb->nemo_toolkit[all]) (1.0.9)\n",
      "Requirement already satisfied: pathtools in /home/tim/.local/lib/python3.8/site-packages (from wandb->nemo_toolkit[all]) (0.1.2)\n",
      "Requirement already satisfied: docker-pycreds>=0.4.0 in /home/tim/.local/lib/python3.8/site-packages (from wandb->nemo_toolkit[all]) (0.4.0)\n",
      "Requirement already satisfied: promise<3,>=2.0 in /home/tim/.local/lib/python3.8/site-packages (from wandb->nemo_toolkit[all]) (2.3)\n",
      "Requirement already satisfied: GitPython>=1.0.0 in /home/tim/.local/lib/python3.8/site-packages (from wandb->nemo_toolkit[all]) (3.1.27)\n",
      "Requirement already satisfied: urllib3<1.27,>=1.25.4 in /usr/lib/python3/dist-packages (from botocore<1.28.0,>=1.27.7->boto3->nemo_toolkit[all]) (1.25.8)\n",
      "Requirement already satisfied: pycparser in /home/tim/.local/lib/python3.8/site-packages (from cffi>=1.0->soundfile->nemo_toolkit[all]) (2.20)\n",
      "Requirement already satisfied: Werkzeug>=0.15 in /usr/local/lib/python3.8/dist-packages (from Flask>=0.8->flask_restful->nemo_toolkit[all]) (1.0.1)\n",
      "Requirement already satisfied: itsdangerous>=0.24 in /usr/local/lib/python3.8/dist-packages (from Flask>=0.8->flask_restful->nemo_toolkit[all]) (1.1.0)\n",
      "Requirement already satisfied: aiohttp in /home/tim/.local/lib/python3.8/site-packages (from fsspec[http]!=2021.06.0,>=2021.05.0->pytorch-lightning>=1.6.1->nemo_toolkit[all]) (3.8.1)\n",
      "Requirement already satisfied: gitdb<5,>=4.0.1 in /home/tim/.local/lib/python3.8/site-packages (from GitPython>=1.0.0->wandb->nemo_toolkit[all]) (4.0.9)\n",
      "Requirement already satisfied: zipp>=0.5 in /home/tim/.local/lib/python3.8/site-packages (from importlib-metadata>=4.4->sphinx->nemo_toolkit[all]) (3.8.0)\n",
      "Requirement already satisfied: jupyter-client in /home/tim/.local/lib/python3.8/site-packages (from ipykernel>=4.5.1->ipywidgets->nemo_toolkit[all]) (6.1.12)\n",
      "Requirement already satisfied: tornado>=4.2 in /home/tim/.local/lib/python3.8/site-packages (from ipykernel>=4.5.1->ipywidgets->nemo_toolkit[all]) (6.1)\n",
      "Requirement already satisfied: debugpy>=1.0.0 in /home/tim/.local/lib/python3.8/site-packages (from ipykernel>=4.5.1->ipywidgets->nemo_toolkit[all]) (1.3.0)\n",
      "Requirement already satisfied: jedi>=0.16 in /home/tim/.local/lib/python3.8/site-packages (from ipython>=4.0.0->ipywidgets->nemo_toolkit[all]) (0.18.0)\n",
      "Requirement already satisfied: pexpect>4.3 in /usr/lib/python3/dist-packages (from ipython>=4.0.0->ipywidgets->nemo_toolkit[all]) (4.6.0)\n",
      "Requirement already satisfied: pickleshare in /home/tim/.local/lib/python3.8/site-packages (from ipython>=4.0.0->ipywidgets->nemo_toolkit[all]) (0.7.5)\n",
      "Requirement already satisfied: backcall in /home/tim/.local/lib/python3.8/site-packages (from ipython>=4.0.0->ipywidgets->nemo_toolkit[all]) (0.2.0)\n",
      "Requirement already satisfied: matplotlib-inline in /home/tim/.local/lib/python3.8/site-packages (from ipython>=4.0.0->ipywidgets->nemo_toolkit[all]) (0.1.2)\n",
      "Requirement already satisfied: prompt-toolkit!=3.0.0,!=3.0.1,<3.1.0,>=2.0.0 in /home/tim/.local/lib/python3.8/site-packages (from ipython>=4.0.0->ipywidgets->nemo_toolkit[all]) (3.0.19)\n",
      "Requirement already satisfied: MarkupSafe>=2.0 in /home/tim/.local/lib/python3.8/site-packages (from Jinja2>=2.3->sphinx->nemo_toolkit[all]) (2.1.1)\n",
      "Requirement already satisfied: jupyter-core in /home/tim/.local/lib/python3.8/site-packages (from nbformat>=4.2.0->ipywidgets->nemo_toolkit[all]) (4.7.1)\n",
      "Requirement already satisfied: jsonschema>=2.6 in /home/tim/.local/lib/python3.8/site-packages (from nbformat>=4.2.0->ipywidgets->nemo_toolkit[all]) (3.2.0)\n",
      "Requirement already satisfied: fastjsonschema in /home/tim/.local/lib/python3.8/site-packages (from nbformat>=4.2.0->ipywidgets->nemo_toolkit[all]) (2.15.3)\n",
      "Requirement already satisfied: typer[all]>=0.2.1 in /home/tim/.local/lib/python3.8/site-packages (from pyannote.database>=4.0.1->pyannote.metrics->nemo_toolkit[all]) (0.4.1)\n",
      "Requirement already satisfied: latexcodec>=1.0.4 in /home/tim/.local/lib/python3.8/site-packages (from pybtex>=0.24->sphinxcontrib-bibtex->nemo_toolkit[all]) (2.0.1)\n",
      "Requirement already satisfied: certifi>=2017.4.17 in /usr/lib/python3/dist-packages (from requests->transformers>=4.0.1->nemo_toolkit[all]) (2019.11.28)\n",
      "Requirement already satisfied: charset-normalizer~=2.0.0 in /home/tim/.local/lib/python3.8/site-packages (from requests->transformers>=4.0.1->nemo_toolkit[all]) (2.0.7)\n",
      "Requirement already satisfied: idna<4,>=2.5 in /usr/lib/python3/dist-packages (from requests->transformers>=4.0.1->nemo_toolkit[all]) (2.8)\n",
      "Requirement already satisfied: mpmath>=0.19 in /home/tim/.local/lib/python3.8/site-packages (from sympy>=1.1->pyannote.metrics->nemo_toolkit[all]) (1.2.1)\n",
      "Requirement already satisfied: grpcio>=1.24.3 in /home/tim/.local/lib/python3.8/site-packages (from tensorboard>=2.2.0->pytorch-lightning>=1.6.1->nemo_toolkit[all]) (1.46.3)\n",
      "Requirement already satisfied: google-auth-oauthlib<0.5,>=0.4.1 in /home/tim/.local/lib/python3.8/site-packages (from tensorboard>=2.2.0->pytorch-lightning>=1.6.1->nemo_toolkit[all]) (0.4.6)\n",
      "Requirement already satisfied: tensorboard-data-server<0.7.0,>=0.6.0 in /home/tim/.local/lib/python3.8/site-packages (from tensorboard>=2.2.0->pytorch-lightning>=1.6.1->nemo_toolkit[all]) (0.6.1)\n",
      "Requirement already satisfied: tensorboard-plugin-wit>=1.6.0 in /home/tim/.local/lib/python3.8/site-packages (from tensorboard>=2.2.0->pytorch-lightning>=1.6.1->nemo_toolkit[all]) (1.8.1)\n",
      "Requirement already satisfied: markdown>=2.6.8 in /home/tim/.local/lib/python3.8/site-packages (from tensorboard>=2.2.0->pytorch-lightning>=1.6.1->nemo_toolkit[all]) (3.3.7)\n",
      "Requirement already satisfied: wheel>=0.26 in /home/tim/.local/lib/python3.8/site-packages (from tensorboard>=2.2.0->pytorch-lightning>=1.6.1->nemo_toolkit[all]) (0.37.1)\n",
      "Requirement already satisfied: google-auth<3,>=1.6.3 in /home/tim/.local/lib/python3.8/site-packages (from tensorboard>=2.2.0->pytorch-lightning>=1.6.1->nemo_toolkit[all]) (2.7.0)\n",
      "Requirement already satisfied: absl-py>=0.4 in /home/tim/.local/lib/python3.8/site-packages (from tensorboard>=2.2.0->pytorch-lightning>=1.6.1->nemo_toolkit[all]) (1.1.0)\n",
      "Requirement already satisfied: notebook>=4.4.1 in /home/tim/.local/lib/python3.8/site-packages (from widgetsnbextension~=3.5.0->ipywidgets->nemo_toolkit[all]) (6.4.0)\n",
      "Requirement already satisfied: soupsieve>1.2 in /home/tim/.local/lib/python3.8/site-packages (from beautifulsoup4->gdown->nemo_toolkit[all]) (2.3.2.post1)\n",
      "Requirement already satisfied: pip in /home/tim/.local/lib/python3.8/site-packages (from pip-api->isort[requirements]<5->nemo_toolkit[all]) (22.1.2)\n",
      "Requirement already satisfied: yarg in /home/tim/.local/lib/python3.8/site-packages (from pipreqs->isort[requirements]<5->nemo_toolkit[all]) (0.1.9)\n",
      "Requirement already satisfied: PySocks!=1.5.7,>=1.5.6 in /usr/lib/python3/dist-packages (from requests->transformers>=4.0.1->nemo_toolkit[all]) (1.6.8)\n",
      "Requirement already satisfied: smmap<6,>=3.0.1 in /home/tim/.local/lib/python3.8/site-packages (from gitdb<5,>=4.0.1->GitPython>=1.0.0->wandb->nemo_toolkit[all]) (5.0.0)\n",
      "Requirement already satisfied: pyasn1-modules>=0.2.1 in /home/tim/.local/lib/python3.8/site-packages (from google-auth<3,>=1.6.3->tensorboard>=2.2.0->pytorch-lightning>=1.6.1->nemo_toolkit[all]) (0.2.8)\n",
      "Requirement already satisfied: cachetools<6.0,>=2.0.0 in /home/tim/.local/lib/python3.8/site-packages (from google-auth<3,>=1.6.3->tensorboard>=2.2.0->pytorch-lightning>=1.6.1->nemo_toolkit[all]) (5.2.0)\n",
      "Requirement already satisfied: rsa<5,>=3.1.4 in /home/tim/.local/lib/python3.8/site-packages (from google-auth<3,>=1.6.3->tensorboard>=2.2.0->pytorch-lightning>=1.6.1->nemo_toolkit[all]) (4.8)\n",
      "Requirement already satisfied: requests-oauthlib>=0.7.0 in /home/tim/.local/lib/python3.8/site-packages (from google-auth-oauthlib<0.5,>=0.4.1->tensorboard>=2.2.0->pytorch-lightning>=1.6.1->nemo_toolkit[all]) (1.3.1)\n",
      "Requirement already satisfied: parso<0.9.0,>=0.8.0 in /home/tim/.local/lib/python3.8/site-packages (from jedi>=0.16->ipython>=4.0.0->ipywidgets->nemo_toolkit[all]) (0.8.2)\n",
      "Requirement already satisfied: pyrsistent>=0.14.0 in /home/tim/.local/lib/python3.8/site-packages (from jsonschema>=2.6->nbformat>=4.2.0->ipywidgets->nemo_toolkit[all]) (0.18.0)\n",
      "Requirement already satisfied: Send2Trash>=1.5.0 in /home/tim/.local/lib/python3.8/site-packages (from notebook>=4.4.1->widgetsnbextension~=3.5.0->ipywidgets->nemo_toolkit[all]) (1.7.1)\n",
      "Requirement already satisfied: argon2-cffi in /home/tim/.local/lib/python3.8/site-packages (from notebook>=4.4.1->widgetsnbextension~=3.5.0->ipywidgets->nemo_toolkit[all]) (20.1.0)\n",
      "Requirement already satisfied: ipython-genutils in /home/tim/.local/lib/python3.8/site-packages (from notebook>=4.4.1->widgetsnbextension~=3.5.0->ipywidgets->nemo_toolkit[all]) (0.2.0)\n",
      "Requirement already satisfied: prometheus-client in /home/tim/.local/lib/python3.8/site-packages (from notebook>=4.4.1->widgetsnbextension~=3.5.0->ipywidgets->nemo_toolkit[all]) (0.11.0)\n",
      "Requirement already satisfied: nbconvert in /home/tim/.local/lib/python3.8/site-packages (from notebook>=4.4.1->widgetsnbextension~=3.5.0->ipywidgets->nemo_toolkit[all]) (6.5.0)\n",
      "Requirement already satisfied: pyzmq>=17 in /usr/local/lib/python3.8/dist-packages (from notebook>=4.4.1->widgetsnbextension~=3.5.0->ipywidgets->nemo_toolkit[all]) (19.0.2)\n",
      "Requirement already satisfied: terminado>=0.8.3 in /home/tim/.local/lib/python3.8/site-packages (from notebook>=4.4.1->widgetsnbextension~=3.5.0->ipywidgets->nemo_toolkit[all]) (0.10.1)\n",
      "Requirement already satisfied: shellingham<2.0.0,>=1.3.0 in /home/tim/.local/lib/python3.8/site-packages (from typer[all]>=0.2.1->pyannote.database>=4.0.1->pyannote.metrics->nemo_toolkit[all]) (1.4.0)\n",
      "Requirement already satisfied: aiosignal>=1.1.2 in /home/tim/.local/lib/python3.8/site-packages (from aiohttp->fsspec[http]!=2021.06.0,>=2021.05.0->pytorch-lightning>=1.6.1->nemo_toolkit[all]) (1.2.0)\n",
      "Requirement already satisfied: yarl<2.0,>=1.0 in /home/tim/.local/lib/python3.8/site-packages (from aiohttp->fsspec[http]!=2021.06.0,>=2021.05.0->pytorch-lightning>=1.6.1->nemo_toolkit[all]) (1.7.2)\n",
      "Requirement already satisfied: async-timeout<5.0,>=4.0.0a3 in /home/tim/.local/lib/python3.8/site-packages (from aiohttp->fsspec[http]!=2021.06.0,>=2021.05.0->pytorch-lightning>=1.6.1->nemo_toolkit[all]) (4.0.2)\n",
      "Requirement already satisfied: frozenlist>=1.1.1 in /home/tim/.local/lib/python3.8/site-packages (from aiohttp->fsspec[http]!=2021.06.0,>=2021.05.0->pytorch-lightning>=1.6.1->nemo_toolkit[all]) (1.3.0)\n",
      "Requirement already satisfied: multidict<7.0,>=4.5 in /home/tim/.local/lib/python3.8/site-packages (from aiohttp->fsspec[http]!=2021.06.0,>=2021.05.0->pytorch-lightning>=1.6.1->nemo_toolkit[all]) (6.0.2)\n",
      "Requirement already satisfied: pyasn1<0.5.0,>=0.4.6 in /home/tim/.local/lib/python3.8/site-packages (from pyasn1-modules>=0.2.1->google-auth<3,>=1.6.3->tensorboard>=2.2.0->pytorch-lightning>=1.6.1->nemo_toolkit[all]) (0.4.8)\n",
      "Requirement already satisfied: oauthlib>=3.0.0 in /usr/lib/python3/dist-packages (from requests-oauthlib>=0.7.0->google-auth-oauthlib<0.5,>=0.4.1->tensorboard>=2.2.0->pytorch-lightning>=1.6.1->nemo_toolkit[all]) (3.1.0)\n",
      "Requirement already satisfied: ptyprocess in /home/tim/.local/lib/python3.8/site-packages (from terminado>=0.8.3->notebook>=4.4.1->widgetsnbextension~=3.5.0->ipywidgets->nemo_toolkit[all]) (0.7.0)\n",
      "Requirement already satisfied: bleach in /home/tim/.local/lib/python3.8/site-packages (from nbconvert->notebook>=4.4.1->widgetsnbextension~=3.5.0->ipywidgets->nemo_toolkit[all]) (3.3.0)\n",
      "Requirement already satisfied: mistune<2,>=0.8.1 in /home/tim/.local/lib/python3.8/site-packages (from nbconvert->notebook>=4.4.1->widgetsnbextension~=3.5.0->ipywidgets->nemo_toolkit[all]) (0.8.4)\n",
      "Requirement already satisfied: entrypoints>=0.2.2 in /usr/lib/python3/dist-packages (from nbconvert->notebook>=4.4.1->widgetsnbextension~=3.5.0->ipywidgets->nemo_toolkit[all]) (0.3)\n",
      "Requirement already satisfied: tinycss2 in /home/tim/.local/lib/python3.8/site-packages (from nbconvert->notebook>=4.4.1->widgetsnbextension~=3.5.0->ipywidgets->nemo_toolkit[all]) (1.1.1)\n",
      "Requirement already satisfied: pandocfilters>=1.4.1 in /home/tim/.local/lib/python3.8/site-packages (from nbconvert->notebook>=4.4.1->widgetsnbextension~=3.5.0->ipywidgets->nemo_toolkit[all]) (1.4.3)\n",
      "Requirement already satisfied: defusedxml in /home/tim/.local/lib/python3.8/site-packages (from nbconvert->notebook>=4.4.1->widgetsnbextension~=3.5.0->ipywidgets->nemo_toolkit[all]) (0.7.1)\n",
      "Requirement already satisfied: jupyterlab-pygments in /home/tim/.local/lib/python3.8/site-packages (from nbconvert->notebook>=4.4.1->widgetsnbextension~=3.5.0->ipywidgets->nemo_toolkit[all]) (0.1.2)\n",
      "Requirement already satisfied: nbclient>=0.5.0 in /home/tim/.local/lib/python3.8/site-packages (from nbconvert->notebook>=4.4.1->widgetsnbextension~=3.5.0->ipywidgets->nemo_toolkit[all]) (0.5.3)\n",
      "Requirement already satisfied: async-generator in /home/tim/.local/lib/python3.8/site-packages (from nbclient>=0.5.0->nbconvert->notebook>=4.4.1->widgetsnbextension~=3.5.0->ipywidgets->nemo_toolkit[all]) (1.10)\n",
      "Requirement already satisfied: nest-asyncio in /home/tim/.local/lib/python3.8/site-packages (from nbclient>=0.5.0->nbconvert->notebook>=4.4.1->widgetsnbextension~=3.5.0->ipywidgets->nemo_toolkit[all]) (1.5.1)\n",
      "Requirement already satisfied: webencodings in /home/tim/.local/lib/python3.8/site-packages (from bleach->nbconvert->notebook>=4.4.1->widgetsnbextension~=3.5.0->ipywidgets->nemo_toolkit[all]) (0.5.1)\n"
     ]
    }
   ],
   "source": [
    "\"\"\"\n",
    "You can either run this notebook locally (if you have all the dependencies and a GPU) or on Google Colab.\n",
    "Instructions for setting up Colab are as follows:\n",
    "1. Open a new Python 3 notebook.\n",
    "2. Import this notebook from GitHub (File -> Upload Notebook -> \"GITHUB\" tab -> copy/paste GitHub URL)\n",
    "3. Connect to an instance with a GPU (Runtime -> Change runtime type -> select \"GPU\" for hardware accelerator)\n",
    "4. Run this cell to set up dependencies# .\n",
    "\"\"\"\n",
    "BRANCH = 'tts_germanfastpitch'\n",
    "# # If you're using Colab and not running locally, uncomment and run this cell.\n",
    "!apt-get install sox libsndfile1 ffmpeg\n",
    "!pip install wget unidecode pynini==2.1.4 scipy==1.7.3\n",
    "!python -m pip install git+https://github.com/NVIDIA/NeMo.git@$BRANCH#egg=nemo_toolkit[all]"
   ]
  },
  {
   "cell_type": "code",
   "execution_count": 2,
   "id": "bf1cc79c",
   "metadata": {},
   "outputs": [],
   "source": [
    "import json\n",
    "import nemo\n",
    "import torch\n",
    "import librosa\n",
    "import numpy as np\n",
    "\n",
    "from pathlib import Path\n",
    "from tqdm.notebook import tqdm"
   ]
  },
  {
   "cell_type": "code",
   "execution_count": 3,
   "id": "0023bb0f",
   "metadata": {},
   "outputs": [
    {
     "name": "stdout",
     "output_type": "stream",
     "text": [
      "mkdir: das Verzeichnis »/NeMo“ kann nicht angelegt werden: Keine Berechtigung\n",
      "/bin/bash: Zeile 0: cd: /NeMo: Datei oder Verzeichnis nicht gefunden\n",
      "/bin/bash: Zeile 0: cd: /NeMo: Datei oder Verzeichnis nicht gefunden\n",
      "/bin/bash: Zeile 0: cd: /NeMo: Datei oder Verzeichnis nicht gefunden\n",
      "/bin/bash: Zeile 0: cd: /NeMo: Datei oder Verzeichnis nicht gefunden\n",
      "/bin/bash: Zeile 0: cd: /NeMo: Datei oder Verzeichnis nicht gefunden\n",
      "/bin/bash: Zeile 0: cd: /NeMo: Datei oder Verzeichnis nicht gefunden\n",
      "/bin/bash: Zeile 0: cd: /NeMo: Datei oder Verzeichnis nicht gefunden\n"
     ]
    }
   ],
   "source": [
    "# lets download the files we need to run this tutorial\n",
    "\n",
    "!mkdir /NeMo\n",
    "!cd /NeMo && wget https://raw.githubusercontent.com/nvidia/NeMo/$BRANCH/scripts/dataset_processing/tts/openslr/get_data.py\n",
    "!cd /NeMo && wget https://raw.githubusercontent.com/nvidia/NeMo/$BRANCH/examples/tts/fastpitch.py\n",
    "!cd /NeMo && wget https://raw.githubusercontent.com/nvidia/NeMo/$BRANCH/examples/tts/hifigan_finetune.py\n",
    "!cd /NeMo && wget https://raw.githubusercontent.com/nvidia/NeMo/$BRANCH/scripts/dataset_processing/tts/extract_sup_data.py\n",
    "!cd /NeMo && wget https://raw.githubusercontent.com/NVIDIA/NeMo/$BRANCH/examples/tts/conf/de/fastpitch_align_22050.yaml\n",
    "!cd /NeMo && wget https://raw.githubusercontent.com/NVIDIA/NeMo/$BRANCH/examples/tts/conf/hifigan/hifigan.yaml\n",
    "!cd /NeMo && wget https://raw.githubusercontent.com/NVIDIA/NeMo/$BRANCH/nemo_text_processing/text_normalization/de/data/whitelist.tsv"
   ]
  },
  {
   "cell_type": "markdown",
   "id": "0addf41a",
   "metadata": {},
   "source": [
    "# Introduction"
   ]
  },
  {
   "cell_type": "markdown",
   "id": "c0c67aa7",
   "metadata": {},
   "source": [
    "### FastPitch\n",
    "\n",
    "FastPitch is non-autoregressive model for mel-spectrogram generation based on FastSpeech, conditioned on fundamental frequency contours. For more details about model, please refer to the original [paper](https://ieeexplore.ieee.org/abstract/document/9413889). Original [FastPitch model](https://ieeexplore.ieee.org/abstract/document/9413889) uses an external Tacotron 2 model trained on LJSpeech-1.1 to extract training alignments and estimate durations of input symbols. This implementation of FastPitch is based on [Deep Learning Examples](https://github.com/NVIDIA/DeepLearningExamples/tree/master/PyTorch/SpeechSynthesis/FastPitch), which uses an alignment mechanism proposed in [RAD-TTS](https://openreview.net/pdf?id=0NQwnnwAORi) and extended in [TTS Aligner](https://ieeexplore.ieee.org/stamp/stamp.jsp?tp=&arnumber=9747707).\n",
    "\n",
    "For more information on training a basic FastPitch model, please refer to [FastPitch_MixerTTS_Training.ipynb](https://github.com/NVIDIA/NeMo/blob/main/tutorials/tts/FastPitch_MixerTTS_Training.ipynb) tutorial.\n",
    "\n",
    "### HiFiGAN\n",
    "HiFiGAN is a generative adversarial network (GAN) model that generates audio from mel spectrograms. The generator uses transposed convolutions to upsample mel spectrograms to audio. For more details about the model, please refer to the original [paper](https://arxiv.org/abs/2010.05646). NeMo re-implementation of HiFi-GAN can be found [here](https://github.com/NVIDIA/NeMo/blob/main/nemo/collections/tts/models/hifigan.py)."
   ]
  },
  {
   "cell_type": "markdown",
   "id": "b0fb61bc",
   "metadata": {},
   "source": [
    "# Dataset Preparation"
   ]
  },
  {
   "cell_type": "markdown",
   "id": "dbc3a5ab",
   "metadata": {},
   "source": [
    "We will show example of preprocessing and training using OpenSLR's German Neutral TTS dataset ([link](https://www.openslr.org/95)). It is a free single german speaker dataset (> 23 hours) by Thorsten Müller (voice) and Dominik Kreutz (audio optimization) for tts training. \n",
    "\n",
    "In this section, we will cover:\n",
    "1. Downloading the dataset\n",
    "2. Creating manifests\n",
    "3. Normalizing text\n",
    "4. Phonemization\n",
    "5. Creating dataset config\n",
    "6. Creating suppplementary data"
   ]
  },
  {
   "cell_type": "markdown",
   "id": "add9f955",
   "metadata": {},
   "source": [
    "## 1. Downloading the dataset"
   ]
  },
  {
   "cell_type": "code",
   "execution_count": 4,
   "id": "9982b65b",
   "metadata": {},
   "outputs": [
    {
     "name": "stdout",
     "output_type": "stream",
     "text": [
      "mkdir: das Verzeichnis »/Data“ kann nicht angelegt werden: Keine Berechtigung\n"
     ]
    }
   ],
   "source": [
    "!mkdir /Data && \\\n",
    "    cd /Data && \\\n",
    "    wget https://us.openslr.org/resources/95/thorsten-de_v02.tgz && \\\n",
    "    tar -zxvf thorsten-de_v02.tgz"
   ]
  },
  {
   "cell_type": "code",
   "execution_count": null,
   "id": "e500cf5b",
   "metadata": {},
   "outputs": [],
   "source": [
    "# /Data directory looks like\n",
    "!ls /Data -R"
   ]
  },
  {
   "cell_type": "markdown",
   "id": "8dd1f324",
   "metadata": {},
   "source": [
    "\n",
    "```bash\n",
    "$ ls /Data -R\n",
    "/Data:\n",
    "thorsten-de  thorsten-de_v02.tgz\n",
    "\n",
    "/Data/thorsten-de:\n",
    "metadata.csv  metadata_shuf.csv  metadata_train.csv  metadata_val.csv  wavs\n",
    "\n",
    "/Data/thorsten-de/wavs:\n",
    "00025a6fbea659dae6ece011e749aa34.wav  80689a91d5c8e32847ccbba2322e2122.wav\n",
    "000314280388fb390b3e70b69ee53a23.wav  8068cbcbe28085c15d2e8a8f7291d009.wav\n",
    "000624f768d7e282534a850980619fb2.wav  8071b84557c9a780d23414e241393f00.wav\n",
    "000c5b9d181c934e8a343fb561c928bd.wav  8073badcfce74546b2bab83f76dbf043.wav\n",
    "001364406f288f03136403c611fff1dc.wav  80743e8e580d128673e181cc15b47cc9.wav\n",
    "...\n",
    "```"
   ]
  },
  {
   "cell_type": "markdown",
   "id": "1be59a49",
   "metadata": {},
   "source": [
    "## 2. Creating manifests \n",
    "\n",
    "We've created `scripts/dataset_processing/tts/openslr/get_data.py` script that reads the `/Data/thorsten-de/metadata.csv` provided with the dataset and generates the following fields per each datapoint:\n",
    "1. `audio_filepath`: location of the wav file\n",
    "2. `duration`: duration of the wav file\n",
    "3. `text`: original text supplied by OpenSLR\n",
    "    \n",
    "After that, the script randomly splits the datapoints into 3 buckets, `train_manifest.json`, `val_manifest.json` and `test_manifest.json`. Example:"
   ]
  },
  {
   "cell_type": "code",
   "execution_count": null,
   "id": "a887e246",
   "metadata": {},
   "outputs": [],
   "source": [
    "!(cd /NeMo && \\\n",
    "    python get_data.py \\\n",
    "        --data-root /Data/ \\\n",
    "        --val-size 0.1 \\\n",
    "        --test-size 0.2)"
   ]
  },
  {
   "cell_type": "markdown",
   "id": "7b5925c5",
   "metadata": {},
   "source": [
    "In the example above, 10% datapoints go to validation set, 20% go to test set and the remaining 70% go to training set."
   ]
  },
  {
   "cell_type": "code",
   "execution_count": null,
   "id": "d85c0161",
   "metadata": {},
   "outputs": [],
   "source": [
    "# /Data directory looks like\n",
    "!ls /Data -R"
   ]
  },
  {
   "cell_type": "markdown",
   "id": "e8478373",
   "metadata": {},
   "source": [
    "```bash\n",
    "$ ls /Data -R\n",
    "/Data:\n",
    "thorsten-de\n",
    "thorsten-de_v02.tgz\n",
    "\n",
    "/Data/thorsten-de:\n",
    "metadata.csv\n",
    "metadata_shuf.csv\n",
    "metadata_train.csv\n",
    "metadata_val.csv\n",
    "test_manifest.json\n",
    "train_manifest.json\n",
    "val_manifest.json\n",
    "wavs\n",
    "\n",
    "/Data/thorsten-de/wavs:\n",
    "00025a6fbea659dae6ece011e749aa34.wav\n",
    "000314280388fb390b3e70b69ee53a23.wav\n",
    "000624f768d7e282534a850980619fb2.wav\n",
    "...\n",
    "```"
   ]
  },
  {
   "cell_type": "markdown",
   "id": "11ac14a9",
   "metadata": {},
   "source": [
    "## 3. Normalizing text\n",
    "\n",
    "The script above, i.e. `scripts/dataset_processing/tts/openslr/get_data.py`, also generates a another field per each datapoint:\n",
    "- `normalized_text`: normalized text via NeMo's text normalizer:\n",
    "    ```python\n",
    "    nemo_text_processing.text_normalization.normalize.Normalizer(lang=\"de\", input_case=\"cased\", overwrite_cache=True, cache_dir=str(file_path / \"cache_dir\"))\n",
    "    ```\n",
    "    \n",
    "German language text normalizer (defined here: `nemo_text_processing/text_normalization/de`) was created using the tutorial shared under NeMo's `Grammar customization` documentation [here](https://docs.nvidia.com/deeplearning/nemo/user-guide/docs/en/main/nlp/text_normalization/wfst/wfst_text_normalization.html#grammar-customization). Here are some example records:\n",
    "```json\n",
    "{\"audio_filepath\": \"/Data/thorsten-de/wavs/f1becc89cb4079a123ead68c9c8bb8ae.wav\", \"duration\": 7.250023, \"text\": \"Öffne den Webbrowser und rufe www.archlinux.org auf.\", \"normalized_text\": \"Öffne den Webbrowser und rufe w w w punkt a r c h l i n u x punkt o r g auf.\"}\n",
    "```\n",
    "Notice that the URL has been spelled out. \n",
    "\n",
    "In other cases, the normalized text may look the same as text, example:\n",
    "```json\n",
    "{\"audio_filepath\": \"/Data/thorsten-de/wavs/e50eb02c25353f85549900d2fc1e0e32.wav\", \"duration\": 2.409977, \"text\": \"Geht die Schandtat auf sein Konto?\", \"normalized_text\": \"Geht die Schandtat auf sein Konto?\"}\n",
    "```"
   ]
  },
  {
   "cell_type": "markdown",
   "id": "1ea88eae",
   "metadata": {},
   "source": [
    "## 4. Phonemization\n",
    "\n",
    "The pronunciation of a word can be represented as a string of phones, which are speech sounds, each represented with symbols adapated from the Roman alphabet. The IPA is designed to represent those qualities of speech that are part of lexical (and to a limited extent prosodic) sounds in oral language: phones, phonemes, intonation and the separation of words and syllables. Training model with phonemes as well as text will help the model generate more accurate speech sounds."
   ]
  },
  {
   "cell_type": "code",
   "execution_count": null,
   "id": "00de9751",
   "metadata": {},
   "outputs": [],
   "source": [
    "print(\"text: Geht die Schandtat auf sein Konto?\")\n",
    "print(\"phoneme: \\u0261e\\u02d0t di\\u02d0 \\u0283ant\\u0251\\u02d0t a\\u028af za\\u026an k\\u0254nto\\u02d0\")"
   ]
  },
  {
   "cell_type": "markdown",
   "id": "c2d57066",
   "metadata": {},
   "source": [
    "The original dataset only contains text input, so, in order to add phonemes, we need to convert German text into phonemes using [bootphon/phonemizer](https://github.com/bootphon/phonemizer).\n",
    "\n",
    "One of the easiest ways to install phonemizer is via pip and espeak backend via apt:"
   ]
  },
  {
   "cell_type": "code",
   "execution_count": null,
   "id": "5ce78633",
   "metadata": {},
   "outputs": [],
   "source": [
    "!pip install phonemizer && apt-get install espeak-ng"
   ]
  },
  {
   "cell_type": "markdown",
   "id": "2d416091",
   "metadata": {},
   "source": [
    "Alternatively, you can use phonemizer via docker container:\n",
    "```bash\n",
    "git clone https://github.com/bootphon/phonemizer\n",
    "cd phonemizer\n",
    "docker build -t phonemizer .\n",
    "docker run --rm -d -it -p 8888:8888 -v /Data:/Data --ipc=host phonemizer /bin/bash\n",
    "docker exec -it <docker_container_id> /bin/bash\n",
    "```\n",
    "\n",
    "Other install methods for phonemizer are listed [here](https://bootphon.github.io/phonemizer/install.html)."
   ]
  },
  {
   "cell_type": "code",
   "execution_count": null,
   "id": "ec4f0de7",
   "metadata": {},
   "outputs": [],
   "source": [
    "from phonemizer.backend import EspeakBackend\n",
    "import json\n",
    "\n",
    "backend = EspeakBackend('de')\n",
    "\n",
    "input_manifest_filepaths = [\"/Data/thorsten-de/train_manifest\", \"/Data/thorsten-de/test_manifest\", \"/Data/thorsten-de/val_manifest\"]\n",
    "\n",
    "for input_manifest_filepath in input_manifest_filepaths:\n",
    "    output_manifest_filepath = input_manifest_filepath+\"_phonemes\"\n",
    "    records = []\n",
    "    n_text = []\n",
    "    with open(input_manifest_filepath + \".json\", \"r\") as f:\n",
    "        for i, line in enumerate(f):\n",
    "            d = json.loads(line)\n",
    "            records.append(d)\n",
    "            n_text.append(d['normalized_text'])\n",
    "\n",
    "    phonemized = backend.phonemize(n_text)\n",
    "\n",
    "    new_records = []\n",
    "    for i in range(len(records)):\n",
    "        records[i][\"is_phoneme\"] = 0\n",
    "        new_records.append(records[i])\n",
    "        phoneme_record = records[i].copy()\n",
    "        phoneme_record[\"normalized_text\"] = phonemized[i]\n",
    "        phoneme_record[\"is_phoneme\"] = 1\n",
    "        new_records.append(phoneme_record)\n",
    "\n",
    "    with open(output_manifest_filepath + \".json\", \"w\") as f:\n",
    "        for r in new_records:\n",
    "            f.write(json.dumps(r) + '\\n')"
   ]
  },
  {
   "cell_type": "markdown",
   "id": "f5994604",
   "metadata": {},
   "source": [
    "To better understand the phonemize method, refer to the docs [here](https://github.com/bootphon/phonemizer/blob/master/phonemizer/backend/base.py#L137).\n",
    "\n",
    "Run the above script for train, test and val records, resulting in `train_phonemes_manifest.json`, `test_phonemes_manifest.json` and `val_phonemes_manifest.json` respectively.\n",
    "\n",
    "We are effectively doubling the size of our dataset. Each original record maps on to two records, one with original `normalized_text` field value and `is_phoneme` set to 0 and another with phonemized text and `is_phoneme` flag set to 1.\n",
    "\n",
    "Example of input record:\n",
    "```json\n",
    "{\"audio_filepath\": \"/Data/thorsten-de/wavs/e50eb02c25353f85549900d2fc1e0e32.wav\", \"duration\": 2.409977, \"text\": \"Geht die Schandtat auf sein Konto?\", \"normalized_text\": \"Geht die Schandtat auf sein Konto?\"}\n",
    "```\n",
    "And corresponding output records:\n",
    "```json\n",
    "{\"audio_filepath\": \"/Data/thorsten-de/wavs/e50eb02c25353f85549900d2fc1e0e32.wav\", \"duration\": 2.409977, \"text\": \"Geht die Schandtat auf sein Konto?\", \"normalized_text\": \"Geht die Schandtat auf sein Konto?\", \"is_phoneme\": 0}\n",
    "{\"audio_filepath\": \"/Data/thorsten-de/wavs/e50eb02c25353f85549900d2fc1e0e32.wav\", \"duration\": 2.409977, \"text\": \"Geht die Schandtat auf sein Konto?\", \"normalized_text\": \"\\u0261e\\u02d0t di\\u02d0 \\u0283ant\\u0251\\u02d0t a\\u028af za\\u026an k\\u0254nto\\u02d0 \", \"is_phoneme\": 1}\n",
    "```"
   ]
  },
  {
   "cell_type": "markdown",
   "id": "3f2a97df",
   "metadata": {},
   "source": [
    "## 5. Creating dataset config\n",
    "\n",
    "Most of the configuration remains the same as described in [FastPitch and MixerTTS training tutorial](FastPitch_MixerTTS_Training.ipynb) except:\n",
    "1. The `text_tokenizer._target_` is set to `nemo.collections.tts.torch.tts_tokenizers.GermanCharsTokenizer` class defined here: `collections/tts/torch/tts_tokenizers.py`, and pass `is_phoneme: true`, which will extend the `de_alphabet` to include IPA symbols, resulting in `abcdefghijklmnopqrstuvwxyzäöüßʊʃŋɜːɛɾəɪçɔøɡœɑÜ„1Q̃ɒʒÄɹÖʌθàó̈ðéɐá`. \n",
    "\n",
    "2. The `text_normalizer.lang` is set to `de`, in order to use the tokenizer defined in `nemo_text_processing/text_normalization/de` (as discussed above).\n",
    "\n",
    "3. Update the `whitelist_path` to point to German whitelist: `nemo_text_processing/text_normalization/de/data/whitelist.tsv`\n",
    "\n",
    "Final config looks like:\n",
    "\n",
    "```yaml\n",
    "name: \"ds_for_fastpitch_align\"\n",
    "\n",
    "manifest_filepath: \"train_manifest.json\"\n",
    "sup_data_path: \"sup_data\"\n",
    "sup_data_types: [ \"align_prior_matrix\", \"pitch\" ]\n",
    "whitelist_path: \"/NeMo/whitelist.tsv\"\n",
    "\n",
    "dataset:\n",
    "  _target_: nemo.collections.tts.torch.data.TTSDataset\n",
    "  manifest_filepath: ${manifest_filepath}\n",
    "  sample_rate: 22050\n",
    "  sup_data_path: ${sup_data_path}\n",
    "  sup_data_types: ${sup_data_types}\n",
    "  n_fft: 1024\n",
    "  win_length: 1024\n",
    "  hop_length: 256\n",
    "  window: \"hann\"\n",
    "  n_mels: 80\n",
    "  lowfreq: 0\n",
    "  highfreq: 8000\n",
    "  max_duration: null\n",
    "  min_duration: 0.1\n",
    "  ignore_file: null\n",
    "  trim: false\n",
    "  pitch_fmin: 65.40639132514966\n",
    "  pitch_fmax: 2093.004522404789\n",
    "\n",
    "  text_normalizer:\n",
    "    _target_: nemo_text_processing.text_normalization.normalize.Normalizer\n",
    "    lang: de\n",
    "    input_case: cased\n",
    "    whitelist: ${whitelist_path}\n",
    "\n",
    "  text_normalizer_call_kwargs:\n",
    "    verbose: false\n",
    "    punct_pre_process: true\n",
    "    punct_post_process: true\n",
    "\n",
    "  text_tokenizer:\n",
    "    _target_: nemo.collections.tts.torch.tts_tokenizers.GermanCharsTokenizer\n",
    "    punct: true\n",
    "    apostrophe: true\n",
    "    pad_with_space: true\n",
    "    phonemes: true\n",
    "```\n",
    "\n",
    "Save the above config in `/NeMo/ds_for_fastpitch_align.yaml`."
   ]
  },
  {
   "cell_type": "markdown",
   "id": "20d3ea4b",
   "metadata": {},
   "source": [
    "## 6. Creating Supplementary Data\n",
    "\n",
    "As mentioned in the [FastPitch and MixerTTS training tutorial](FastPitch_MixerTTS_Training.ipynb) - To accelerate and stabilize our training, we also need to extract pitch for every audio, estimate pitch statistics (mean and std) and pre-calculate alignment prior matrices for alignment framework. To do this, all we need to do is iterate over our data one time, via `extract_sup_data.py` script.\n",
    "\n",
    "Note: This is an optional step, if skipped, it will be automatically executed within the first epoch of training FastPitch."
   ]
  },
  {
   "cell_type": "code",
   "execution_count": null,
   "id": "a9bb1915",
   "metadata": {},
   "outputs": [],
   "source": [
    "!cd /NeMo/ && \\\n",
    "    python extract_sup_data.py \\\n",
    "        --config-path /NeMo \\\n",
    "        --config-name ds_for_fastpitch_align.yaml \\\n",
    "        manifest_filepath=/Data/thorsten-de/train_manifest_phonemes.json \\\n",
    "        sup_data_path=/Data/thorsten-de/phonemes/"
   ]
  },
  {
   "cell_type": "markdown",
   "id": "b7225af2",
   "metadata": {},
   "source": [
    "The above example gives the following result:\n",
    "1. Creates two folders under `sup_data_path` - `pitch` and `align_prior_matrix`\n",
    "2. Prints out `PITCH_MEAN, PITCH_STD = 132.524658203125, 37.389366149902344`"
   ]
  },
  {
   "cell_type": "markdown",
   "id": "692ac466",
   "metadata": {},
   "source": [
    "# Training"
   ]
  },
  {
   "cell_type": "markdown",
   "id": "d552f7ab",
   "metadata": {},
   "source": [
    "Before we train our model, let's define model config. Most of the model config stays the same as defined here: `examples/tts/conf/fastpitch_align_44100.yaml`, except:\n",
    "1. Make the same changes that we made in dataset config for `text_tokenizer`, `text_normalizer` and `whitelist_path`.\n",
    "\n",
    "2. The `pitch_mean` and `pitch_std` are updated to the values reported by the `extract_sup_data.py` script.\n",
    "\n",
    "3. The `sample_rate` is updated to 22050 KHz per our dataset. And accordingly halve the `n_window_size`, `n_window_stride` and `n_fft` parameters as well. \n",
    "\n",
    "We have already downloaded the config after making these changes here: `/NeMo/fastpitch_align_22050.yaml`"
   ]
  },
  {
   "cell_type": "code",
   "execution_count": null,
   "id": "f21fc784",
   "metadata": {},
   "outputs": [],
   "source": [
    "!cat /NeMo/fastpitch_align_22050.yaml"
   ]
  },
  {
   "cell_type": "markdown",
   "id": "96edcb13",
   "metadata": {},
   "source": [
    "If you are using Weights and Biases, you may need to login first. More details [here](https://docs.wandb.ai/ref/cli/wandb-login)."
   ]
  },
  {
   "cell_type": "code",
   "execution_count": null,
   "id": "bb23fba3",
   "metadata": {},
   "outputs": [],
   "source": [
    "wandb_api_key = \"apikey\"\n",
    "wandb_project_name = \"GermanTTS\"\n",
    "wandb_run_name = \"tutorial\"\n",
    "\n",
    "!wandb login ${wandb_api_key}"
   ]
  },
  {
   "cell_type": "markdown",
   "id": "48e16fed",
   "metadata": {},
   "source": [
    "Now we are ready for training our model! Let's try to train FastPitch."
   ]
  },
  {
   "cell_type": "code",
   "execution_count": null,
   "id": "1b37ec68",
   "metadata": {},
   "outputs": [],
   "source": [
    "!(cd /NeMo && CUDA_VISIBLE_DEVICES=0 python fastpitch.py --config-path /NeMo --config-name fastpitch_align_22050 \\\n",
    "    model.train_ds.dataloader_params.batch_size=32 \\\n",
    "    model.validation_ds.dataloader_params.batch_size=32 \\\n",
    "    train_dataset=/Data/thorsten-de/train_manifest_phonemes.json \\\n",
    "    validation_datasets=/Data/thorsten-de/val_manifest_phonemes.json \\\n",
    "    sup_data_path=/Data/thorsten-de/phonemes/ \\\n",
    "    whitelist_path=/NeMo/whitelist.tsv \\\n",
    "    exp_manager.exp_dir=/result \\\n",
    "    trainer.max_epochs=1 \\\n",
    "    pitch_mean=132.524658203125 \\\n",
    "    pitch_std=37.389366149902344 \\\n",
    "    +exp_manager.create_wandb_logger=true \\\n",
    "    +exp_manager.wandb_logger_kwargs.name=${wandb_run_name} \\\n",
    "    +exp_manager.wandb_logger_kwargs.project=${wandb_project_name})"
   ]
  },
  {
   "cell_type": "markdown",
   "id": "e422a61c",
   "metadata": {},
   "source": [
    "Note:\n",
    "1. We use `CUDA_VISIBLE_DEVICES=0` to limit training to single GPU.\n",
    "2. For debugging you may also add the following flags: `HYDRA_FULL_ERROR=1`, `CUDA_LAUNCH_BLOCKING=1`\n",
    "\n",
    "<b>Note</b>: We've limited the above run to 1 epoch only, so we can validate the implementation within the scope of this tutorial. We recommend around 1000 epochs when training FastPitch from scratch."
   ]
  },
  {
   "cell_type": "markdown",
   "id": "02c5bea2",
   "metadata": {},
   "source": [
    "## Evaluating FastPitch + pretrained HiFi-GAN\n",
    "\n",
    "Let's evaluate the quality of the FastPitch model generated so far using a HiFi-GAN model pre-trained on English."
   ]
  },
  {
   "cell_type": "code",
   "execution_count": null,
   "id": "bb7ae759",
   "metadata": {},
   "outputs": [],
   "source": [
    "hfg_ngc = \"tts_hifigan\" # NGC pretrained model name: https://catalog.ngc.nvidia.com/orgs/nvidia/teams/nemo/models/tts_hifigan \n",
    "fastpitch_model_path = \"<path_to_fastpitch_nemo_or_ckpt>\" # from the results directory\n",
    "test = \"Diese Musiksammlung soll die Vielfalt des Lebens widerspiegeln.\" # text input to the model\n",
    "test_id = \"877d9f668a877713b48735f282af62ca\" # identifier for the audio corresponding to the test text\n",
    "data_path = \"/Data/thorsten-de/wavs/\" # path to dataset folder with wav files from original dataset"
   ]
  },
  {
   "cell_type": "code",
   "execution_count": null,
   "id": "d409870c",
   "metadata": {},
   "outputs": [],
   "source": [
    "def evaluate_spec_fastpitch_ckpt(spec_gen_model, v_model, test):\n",
    "    with torch.no_grad():\n",
    "        torch.manual_seed(seed)\n",
    "        torch.cuda.manual_seed(seed)\n",
    "        torch.backends.cudnn.enabled = True\n",
    "        torch.backends.cudnn.benchmark = False\n",
    "        parsed = spec_gen_model.parse(str_input=test, normalize=True)\n",
    "        spectrogram = spec_gen_model.generate_spectrogram(tokens=parsed)\n",
    "        print(spectrogram.size())\n",
    "        audio = v_model.convert_spectrogram_to_audio(spec=spectrogram)\n",
    "\n",
    "    spectrogram = spectrogram.to('cpu').numpy()[0]\n",
    "    audio = audio.to('cpu').numpy()[0]\n",
    "    audio = audio / np.abs(audio).max()\n",
    "    return audio, spectrogram"
   ]
  },
  {
   "cell_type": "code",
   "execution_count": null,
   "id": "c5c60fc2",
   "metadata": {},
   "outputs": [],
   "source": [
    "# load models\n",
    "vocoder_model = HifiGanModel.from_pretrained(hfg_ngc, strict=False).eval().cuda()\n",
    "if \".nemo\" in fastpitch_model_path:\n",
    "    spec_gen_model = FastPitchModel.restore_from(fastpitch_model_path).eval().cuda()\n",
    "else:\n",
    "    FastPitchModel.load_from_checkpoint(checkpoint_path=fastpitch_model_path).eval().cuda()"
   ]
  },
  {
   "cell_type": "code",
   "execution_count": null,
   "id": "6695665f",
   "metadata": {},
   "outputs": [],
   "source": [
    "%matplotlib inline\n",
    "\n",
    "audio, spectrogram = evaluate_spec_fastpitch_ckpt(spec_gen_model, vocoder_model, test)\n",
    "\n",
    "# visualize the spectrogram\n",
    "if spectrogram is not None:\n",
    "    imshow(spectrogram, origin=\"lower\")\n",
    "    plt.show()\n",
    "\n",
    "# audio\n",
    "print(\"original audio\")\n",
    "ipd.display(ipd.Audio(data_path+test_id+'.wav', rate=22050))\n",
    "print(\"predicted audio\")\n",
    "ipd.display(ipd.Audio(audio, rate=22050))"
   ]
  },
  {
   "cell_type": "markdown",
   "id": "98782fb8",
   "metadata": {},
   "source": [
    "We see that audio quality is not as good as we expect. One of the ways mentioned in the [FastPitch_Finetuning.ipynb](FastPitch_Finetuning.ipynb) tutorial is to finetune HiFi-GAN. Lets try that out next!"
   ]
  },
  {
   "cell_type": "markdown",
   "id": "4e33d57b",
   "metadata": {},
   "source": [
    "# Finetuning HiFi-GAN\n",
    "\n",
    "Improving speech quality by Finetuning HiFi-GAN on synthesized mel-spectrograms from FastPitch. "
   ]
  },
  {
   "cell_type": "markdown",
   "id": "473cbfb6",
   "metadata": {},
   "source": [
    "## Generating synthetic mels\n",
    "\n",
    "To generate mel-spectrograms from FastPitch, we can use `generate_spectrogram` method defined in `nemo/collections/tts/models/fastpitch.py`. However, the resulting spectrogram may be different from ground truth mel spectrogram, as shown below:"
   ]
  },
  {
   "cell_type": "code",
   "execution_count": null,
   "id": "14a34ba9",
   "metadata": {},
   "outputs": [],
   "source": [
    "test_audio_filepath = \"/Data/thorsten-de/wavs/5d000c81c8e7c4817cbfd7c4b8738feb.wav\"\n",
    "test_audio_text = \"Dieser Geruch, wenn jemand eine Clementine \\u00f6ffnet!\"\n",
    "fastpitch_model_path = \"<path_to_fastpitch_nemo>\""
   ]
  },
  {
   "cell_type": "code",
   "execution_count": null,
   "id": "dfa99f1e",
   "metadata": {},
   "outputs": [],
   "source": [
    "from matplotlib.pyplot import imshow\n",
    "from nemo.collections.tts.models import FastPitchModel\n",
    "from matplotlib import pyplot as plt\n",
    "import librosa\n",
    "import librosa.display\n",
    "import torch\n",
    "import soundfile as sf\n",
    "import numpy as np\n",
    "from nemo.collections.tts.torch.helpers import BetaBinomialInterpolator\n",
    "\n",
    "def load_wav(audio_file):\n",
    "    with sf.SoundFile(audio_file, 'r') as f:\n",
    "        samples = f.read(dtype='float32')\n",
    "    return samples.transpose()\n",
    "\n",
    "def plot_logspec(spec, axis=None):    \n",
    "    librosa.display.specshow(\n",
    "        librosa.amplitude_to_db(spec, ref=np.max),\n",
    "        y_axis='linear', \n",
    "        x_axis=\"time\",\n",
    "        fmin=0, \n",
    "        fmax=8000,\n",
    "        ax=axis\n",
    "    )"
   ]
  },
  {
   "cell_type": "code",
   "execution_count": null,
   "id": "14988711",
   "metadata": {},
   "outputs": [],
   "source": [
    "spec_model = FastPitchModel.restore_from(fastpitch_model_path).eval().cuda()"
   ]
  },
  {
   "cell_type": "markdown",
   "id": "046e7e7c",
   "metadata": {},
   "source": [
    "So we have 2 types of mel spectrograms that we can use for finetuning HiFi-GAN:\n",
    "\n",
    "### 1. Original mel spectrogram generated from original audio file"
   ]
  },
  {
   "cell_type": "code",
   "execution_count": null,
   "id": "3ac663e7",
   "metadata": {},
   "outputs": [],
   "source": [
    "print(\"loading original melspec\")\n",
    "y, sr = librosa.load(test_audio_filepath)\n",
    "# change n_fft, win_length, hop_length parameters below based on your specific config file\n",
    "spectrogram2 = np.log(librosa.feature.melspectrogram(y=y, sr=sr, n_fft=1024, win_length=1024, hop_length=256))\n",
    "spectrogram = spectrogram2[ :80, :]\n",
    "print(\"spectrogram shape = \", spectrogram.shape)\n",
    "plot_logspec(spectrogram)\n",
    "plt.show()"
   ]
  },
  {
   "cell_type": "markdown",
   "id": "e67c3f3a",
   "metadata": {},
   "source": [
    "### 2. Mel spectrogram predicted from FastPitch"
   ]
  },
  {
   "cell_type": "code",
   "execution_count": null,
   "id": "eb8fd365",
   "metadata": {},
   "outputs": [],
   "source": [
    "print(\"loading fastpitch melspec via generate_spectrogram\")\n",
    "with torch.no_grad():\n",
    "    text = spec_model.parse(test_audio_text, normalize=False)\n",
    "    spectrogram = spec_model.generate_spectrogram(\n",
    "      tokens=text, \n",
    "      speaker=None,\n",
    "    )\n",
    "spectrogram = spectrogram.to('cpu').numpy()[0]\n",
    "plot_logspec(spectrogram)\n",
    "print(\"spectrogram shape = \", spectrogram.shape)\n",
    "plt.show()"
   ]
  },
  {
   "cell_type": "markdown",
   "id": "354fbd71",
   "metadata": {},
   "source": [
    "<b>Note</b>: The above spectrogram has the duration 291 which is not equal to the ground truth length, i.e. 315. In order to finetune HiFi-GAN we need mel spectrogram predicted from FastPitch with groundtruth alignment and duration.\n",
    "\n",
    "### 2.1 Mel spectrogram predicted from FastPitch with groundtruth alignment and duration "
   ]
  },
  {
   "cell_type": "code",
   "execution_count": null,
   "id": "f2189d94",
   "metadata": {},
   "outputs": [],
   "source": [
    "print(\"loading fastpitch melspec via forward method with groundtruth alignment and duration\")\n",
    "with torch.no_grad():\n",
    "    device = spec_model.device\n",
    "    beta_binomial_interpolator = BetaBinomialInterpolator()\n",
    "    text = spec_model.parse(test_audio_text, normalize=False)\n",
    "    text_len = torch.tensor(text.shape[-1], dtype=torch.long, device=device).unsqueeze(0)\n",
    "    audio = load_wav(test_audio_filepath)\n",
    "    audio = torch.from_numpy(audio).unsqueeze(0).to(device)\n",
    "    audio_len = torch.tensor(audio.shape[1], dtype=torch.long, device=device).unsqueeze(0)\n",
    "    spect, spect_len = spec_model.preprocessor(input_signal=audio, length=audio_len)\n",
    "    attn_prior = torch.from_numpy(\n",
    "      beta_binomial_interpolator(spect_len.item(), text_len.item())\n",
    "    ).unsqueeze(0).to(text.device)\n",
    "    spectrogram = spec_model.forward(\n",
    "      text=text, \n",
    "      input_lens=text_len, \n",
    "      spec=spect, \n",
    "      mel_lens=spect_len, \n",
    "      attn_prior=attn_prior,\n",
    "      speaker=None,\n",
    "    )[0]\n",
    "spectrogram = spectrogram.to('cpu').numpy()[0]\n",
    "print(\"spectrogram shape = \", spectrogram.shape)\n",
    "plot_logspec(spectrogram)\n",
    "plt.show()"
   ]
  },
  {
   "cell_type": "markdown",
   "id": "114e3c89",
   "metadata": {},
   "source": [
    "In our experience, \n",
    "- Finetuning with #1 has artifacts from the original audio (noise) that get passed on as input to the vocoder resulting in artifacts in vocoder output in the form of noise.\n",
    "- <b> On the other hand, #2.1 (i.e. `Mel spectrogram predicted from FastPitch with groundtruth alignment and duration`) gives the best results because it enables HiFi-GAN to learn mel spectrograms generated by FastPitch as well as duration distributions closer to the real world (i.e. ground truth) durations. </b>\n",
    "\n",
    "From implementation perspective - we follow the same process described in [Finetuning FastPitch for a new speaker](FastPitch_Finetuning.ipynb) - i.e. take the latest checkpoint from FastPitch training and predict spectrograms for each of the input records in `train_manifest_phonemes.json`, `test_manifest_phonemes.json` and `val_manifest_phonemes.json`."
   ]
  },
  {
   "cell_type": "code",
   "execution_count": null,
   "id": "5686fc76",
   "metadata": {},
   "outputs": [],
   "source": [
    "import json\n",
    "import numpy as np\n",
    "import torch\n",
    "import soundfile as sf\n",
    "import librosa\n",
    "\n",
    "from pathlib import Path\n",
    "\n",
    "from nemo.collections.tts.torch.helpers import BetaBinomialInterpolator\n",
    "\n",
    "folder_name = \"synmels\"\n",
    "fastpitch_model_path = \"<path_to_fastpitch_nemo_or_ckpt>\"\n",
    "dataset_part = \"test_phonemes\" # or \"val_phonemes\", \"train_phonemes\"\n",
    "dataset_base_path = \"/Data/\"\n",
    "\n",
    "from nemo.collections.tts.models import FastPitchModel\n",
    "if \".nemo\" in fastpitch_model_path:\n",
    "    spec_model = FastPitchModel.restore_from(fastpitch_model_path).eval().cuda()\n",
    "else:\n",
    "    spec_model = FastPitchModel.load_from_checkpoint(checkpoint_path=fastpitch_model_path).eval().cuda()\n",
    "\n",
    "spec_model.eval().cuda()\n",
    "    \n",
    "def load_wav(audio_file):\n",
    "    with sf.SoundFile(audio_file, 'r') as f:\n",
    "        samples = f.read(dtype='float32')\n",
    "    return samples.transpose()\n",
    "    \n",
    "# Get records from the manifest\n",
    "manifest_path = dataset_base_path+\"thorsten-de/\"+dataset_part+\"_manifest.json\"\n",
    "records = []\n",
    "with open(manifest_path, \"r\") as f:\n",
    "    for i, line in enumerate(f):\n",
    "        records.append(json.loads(line))\n",
    "\n",
    "beta_binomial_interpolator = BetaBinomialInterpolator()\n",
    "\n",
    "spec_model.eval()\n",
    "device = spec_model.device\n",
    "\n",
    "save_dir = Path(dataset_base_path+folder_name+\"/\"+dataset_part)\n",
    "\n",
    "save_dir.mkdir(exist_ok=True, parents=True)\n",
    "\n",
    "# Generate a spectrograms (we need to use ground truth alignment for correct matching between audio and mels)\n",
    "for i, r in enumerate(records):\n",
    "    audio = load_wav(r[\"audio_filepath\"])\n",
    "\n",
    "    audio = torch.from_numpy(audio).unsqueeze(0).to(device)\n",
    "    audio_len = torch.tensor(audio.shape[1], dtype=torch.long, device=device).unsqueeze(0)\n",
    "\n",
    "    # Again, our finetuned FastPitch model doesn't use multiple speakers,\n",
    "    # but we keep the code to support it here for reference\n",
    "    if spec_model.fastpitch.speaker_emb is not None and \"speaker\" in r:\n",
    "        speaker = torch.tensor([r['speaker']]).to(device)\n",
    "    else:\n",
    "        speaker = None\n",
    "\n",
    "    with torch.no_grad():\n",
    "        if \"normalized_text\" in r:\n",
    "            text = spec_model.parse(r[\"normalized_text\"], normalize=False)\n",
    "        else:\n",
    "            text = spec_model.parse(r['text'])\n",
    "\n",
    "        text_len = torch.tensor(text.shape[-1], dtype=torch.long, device=device).unsqueeze(0)\n",
    "\n",
    "        spect, spect_len = spec_model.preprocessor(input_signal=audio, length=audio_len)\n",
    "\n",
    "        # Generate attention prior and spectrogram inputs for HiFi-GAN\n",
    "        attn_prior = torch.from_numpy(\n",
    "          beta_binomial_interpolator(spect_len.item(), text_len.item())\n",
    "        ).unsqueeze(0).to(text.device)\n",
    "        \n",
    "        spectrogram = spec_model.forward(\n",
    "              text=text, \n",
    "              input_lens=text_len, \n",
    "              spec=spect, \n",
    "              mel_lens=spect_len, \n",
    "              attn_prior=attn_prior,\n",
    "              speaker=speaker,\n",
    "            )[0]\n",
    "\n",
    "    save_path = save_dir / f\"mel_{i}.npy\"\n",
    "    np.save(save_path, spectrogram[0].to('cpu').numpy())\n",
    "    r[\"mel_filepath\"] = str(save_path)\n",
    "\n",
    "hifigan_manifest_path = dataset_base_path+folder_name+\"/hifigan_\"+dataset_part+\"_ft.json\"\n",
    "\n",
    "with open(hifigan_manifest_path, \"w\") as f:\n",
    "    for r in records:\n",
    "        f.write(json.dumps(r) + '\\n')"
   ]
  },
  {
   "cell_type": "markdown",
   "id": "4e4f65cb",
   "metadata": {},
   "source": [
    "Revisiting how we implement #2.1 (i.e. Predicted mel spectrogram predicted from FastPitch with groundtruth alignment and duration):\n",
    "\n",
    "1. Notice above that we use audio from dataset (`audio` variable) to compute spectrogram length (`spect_len`):\n",
    "    ```python\n",
    "    spect, spect_len = spec_model.preprocessor(input_signal=audio, length=audio_len)\n",
    "    ```\n",
    "2. and groundtruth alignment (`attn_prior`).\n",
    "    ```python\n",
    "    attn_prior = torch.from_numpy(\n",
    "          beta_binomial_interpolator(spect_len.item(), text_len.item())\n",
    "        ).unsqueeze(0).to(text.device)\n",
    "    ```\n",
    "3. We use both of them to generate synthetic mel spectrogram via `spec_model.forward` method:\n",
    "    ```python\n",
    "    spectrogram = spec_model.forward(\n",
    "          text=text, \n",
    "          input_lens=text_len, \n",
    "          spec=spect, \n",
    "          mel_lens=spect_len, \n",
    "          attn_prior=attn_prior,\n",
    "          speaker=speaker,\n",
    "        )[0]\n",
    "    ```\n",
    "    \n",
    "Repeat the above script for train and validation datasets as well. \n",
    "\n",
    "Finally, the `/Data/synmels` will look like:\n",
    "```\n",
    "/Data/synmels/:\n",
    "hifigan_test_ft.json\n",
    "hifigan_train_ft.json\n",
    "hifigan_val_ft.json\n",
    "test\n",
    "train\n",
    "val\n",
    "\n",
    "/Data/synmels/test:\n",
    "mel_0.npy\n",
    "mel_1.npy\n",
    "...\n",
    "\n",
    "/Data/synmels/train:\n",
    "mel_0.npy\n",
    "mel_1.npy\n",
    "...\n",
    "\n",
    "/Data/synmels/val:\n",
    "mel_0.npy\n",
    "mel_1.npy\n",
    "...\n",
    "```\n",
    "\n",
    "Example HiFi-GAN manifest:\n",
    "```json\n",
    "{\"audio_filepath\": \"/Data/thorsten-de/wavs/e50eb02c25353f85549900d2fc1e0e32.wav\", \"duration\": 2.409977, \"text\": \"Geht die Schandtat auf sein Konto?\", \"normalized_text\": \"Geht die Schandtat auf sein Konto?\", \"mel_filepath\": \"/Data/synmels/test/mel_0.npy\"}\n",
    "```"
   ]
  },
  {
   "cell_type": "markdown",
   "id": "33541413",
   "metadata": {},
   "source": [
    "## Launch finetuning\n",
    "\n",
    "Download the pre-trained HiFi-GAN from NGC."
   ]
  },
  {
   "cell_type": "code",
   "execution_count": null,
   "id": "2deb96ae",
   "metadata": {},
   "outputs": [],
   "source": [
    "!(cd /Data && \\\n",
    "  wget --content-disposition https://api.ngc.nvidia.com/v2/models/nvidia/nemo/tts_hifigan/versions/1.0.0rc1/zip -O tts_hifigan_1.0.0rc1.zip && \\\n",
    "  unzip tts_hifigan_1.0.0rc1.zip)"
   ]
  },
  {
   "cell_type": "markdown",
   "id": "5c324ba6",
   "metadata": {},
   "source": [
    "Setting up wandb"
   ]
  },
  {
   "cell_type": "code",
   "execution_count": null,
   "id": "7f7a12f6",
   "metadata": {},
   "outputs": [],
   "source": [
    "wandb_project_name = \"GermanTTS\"\n",
    "wandb_run_name = \"tutorial_2\""
   ]
  },
  {
   "cell_type": "markdown",
   "id": "ddd4623b",
   "metadata": {},
   "source": [
    "We will be re-using the existing HiFi-GAN config and HiFi-GAN pretrained on English."
   ]
  },
  {
   "cell_type": "code",
   "execution_count": null,
   "id": "ca4a5291",
   "metadata": {},
   "outputs": [],
   "source": [
    "!(cd /NeMo && \\\n",
    "  python hifigan_finetune.py --config-path /NeMo --config-name hifigan.yaml \\\n",
    "    model.max_steps=10 \\\n",
    "    model.optim.lr=0.00001 \\\n",
    "    model.train_ds=train_ds_finetune \\\n",
    "    model.validation_ds=val_ds_finetune \\\n",
    "    ~model.optim.sched \\\n",
    "    train_dataset=/Data/synmels/hifigan_train_phonemes_ft.json \\\n",
    "    validation_datasets=/Data/synmels/hifigan_val_phonemes_ft.json \\\n",
    "    exp_manager.exp_dir=/result \\\n",
    "    +init_from_nemo_model=/Data/tts_hifigan.nemo \\\n",
    "    trainer.devices=-1 \\\n",
    "    exp_manager.create_wandb_logger=true \\\n",
    "    exp_manager.wandb_logger_kwargs.name=${wandb_run_name} \\\n",
    "    exp_manager.wandb_logger_kwargs.project=${wandb_project_name})"
   ]
  },
  {
   "cell_type": "markdown",
   "id": "3cdafb08",
   "metadata": {},
   "source": [
    "<b>Note</b>: We've limited the above run to 10 steps only, so we can validate the implementation within the scope of this tutorial. We recommend evaluating around every 50 steps HiFi-GAN until you get desired quality results."
   ]
  },
  {
   "cell_type": "markdown",
   "id": "3d69751f",
   "metadata": {},
   "source": [
    "## Evaluating FastPitch and Finetuned HiFi-GAN\n",
    "\n",
    "Let's evaluate the quality of the FastPitch model generated so far using a HiFi-GAN model finetuned on predicted mels."
   ]
  },
  {
   "cell_type": "code",
   "execution_count": null,
   "id": "8abcc589",
   "metadata": {},
   "outputs": [],
   "source": [
    "hfg_path = \"<path_to_finetuned_hifigan_nemo_or_ckpt>\"\n",
    "\n",
    "if \".nemo\" in hfg_path:\n",
    "    vocoder_model_pt = HifiGanModel.restore_from(hfg_path).eval().cuda()\n",
    "else:\n",
    "    vocoder_model_pt = HifiGanModel.load_from_checkpoint(checkpoint_path=hfg_path).eval().cuda()"
   ]
  },
  {
   "cell_type": "code",
   "execution_count": null,
   "id": "9b196494",
   "metadata": {},
   "outputs": [],
   "source": [
    "%matplotlib inline\n",
    "\n",
    "audio, spectrogram = evaluate_spec_fastpitch_ckpt(spec_gen_model, vocoder_model_pt, test)\n",
    "\n",
    "# visualize the spectrogram\n",
    "if spectrogram is not None:\n",
    "    imshow(spectrogram, origin=\"lower\")\n",
    "    plt.show()\n",
    "\n",
    "# audio\n",
    "print(\"original audio\")\n",
    "ipd.display(ipd.Audio(data_path+test_id+'.wav', rate=22050))\n",
    "print(\"predicted audio\")\n",
    "ipd.display(ipd.Audio(audio, rate=22050))"
   ]
  },
  {
   "cell_type": "markdown",
   "id": "5cb8f4d8",
   "metadata": {},
   "source": [
    "That's it!"
   ]
  }
 ],
 "metadata": {
  "kernelspec": {
   "display_name": "Python 3 (ipykernel)",
   "language": "python",
   "name": "python3"
  },
  "language_info": {
   "codemirror_mode": {
    "name": "ipython",
    "version": 3
   },
   "file_extension": ".py",
   "mimetype": "text/x-python",
   "name": "python",
   "nbconvert_exporter": "python",
   "pygments_lexer": "ipython3",
   "version": "3.8.10"
  }
 },
 "nbformat": 4,
 "nbformat_minor": 5
}
